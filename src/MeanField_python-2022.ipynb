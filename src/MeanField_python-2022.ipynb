{
 "cells": [
  {
   "cell_type": "code",
   "execution_count": 1,
   "metadata": {},
   "outputs": [],
   "source": [
    "import numpy as np\n",
    "import matplotlib.pyplot as plt\n",
    "from scipy import interpolate"
   ]
  },
  {
   "cell_type": "code",
   "execution_count": 2,
   "metadata": {},
   "outputs": [],
   "source": [
    "# input data\n",
    "delta,t,V,Vp = np.genfromtxt('strain_data.txt',unpack=True,missing_values='N/A')"
   ]
  },
  {
   "cell_type": "code",
   "execution_count": 3,
   "metadata": {
    "scrolled": true
   },
   "outputs": [
    {
     "name": "stdout",
     "output_type": "stream",
     "text": [
      "[0.   0.05 0.1  0.15 0.2  0.25 0.3 ]\n",
      "[1.4461 1.2687 1.1157 0.9833 0.8682 0.7684 0.6816]\n",
      "[66.1  34.7  17.3   7.7   2.6  -0.1  -1.35]\n",
      "[-2.  -1.5 -1.1 -0.9 -0.7 -0.5 -0.4]\n"
     ]
    }
   ],
   "source": [
    "print(delta)\n",
    "print(t)\n",
    "print(V)\n",
    "print(Vp)"
   ]
  },
  {
   "cell_type": "code",
   "execution_count": 4,
   "metadata": {},
   "outputs": [
    {
     "name": "stdout",
     "output_type": "stream",
     "text": [
      "[66.1, 34.7, 17.3, 7.7, 2.6, -0.1, -1.35]\n",
      "[0.0, 0.05, 0.1, 0.15, 0.2, 0.25, 0.3]\n"
     ]
    }
   ],
   "source": [
    "V_sim=[x for x in V if not np.isnan(x)]\n",
    "delta_sim=[]\n",
    "for i,x in enumerate(V):\n",
    "    if not np.isnan(x):\n",
    "        delta_sim.append(delta[i])\n",
    "print(V_sim)\n",
    "print(delta_sim)"
   ]
  },
  {
   "cell_type": "code",
   "execution_count": 5,
   "metadata": {},
   "outputs": [],
   "source": [
    "tinterp = interpolate.CubicSpline(delta,t)\n",
    "Vinterp = interpolate.CubicSpline(delta_sim,V_sim)\n",
    "Vpinterp = interpolate.CubicSpline(delta,Vp)\n",
    "interp = interpolate.CubicSpline(delta,np.array(V_sim)/np.array(Vp))"
   ]
  },
  {
   "cell_type": "code",
   "execution_count": 6,
   "metadata": {},
   "outputs": [],
   "source": [
    "# tinterp = interpolate.interp1d(delta,t,kind='cubic')\n",
    "# Vinterp = interpolate.interp1d(delta_sim,V_sim,kind='cubic')\n",
    "# Vpinterp = interpolate.interp1d(delta,Vp,kind='cubic')"
   ]
  },
  {
   "cell_type": "code",
   "execution_count": 7,
   "metadata": {},
   "outputs": [],
   "source": [
    "# Define energy list\n",
    "\n",
    "def gamma(s,a):\n",
    "    return (s*a - 1)/(a + 1)\n",
    "\n",
    "def term1(t,mu,s,a):\n",
    "    return (t + mu/6)\n",
    "\n",
    "def term2(t,mu,s,a):\n",
    "    return (t + mu/6)*(t - mu/6 + gamma(s,a))\n",
    "\n",
    "def term3(t,mu,s,a):\n",
    "    return 2*t + gamma(s,a)\n",
    "\n",
    "def e13(t,mu,s,a):\n",
    "    return (-mu - 3/(a + 1))*16\n",
    "\n",
    "def e23(t,mu,s,a):\n",
    "    return (-2*mu + (3*s*a - 6)/(a + 1))*16\n",
    "\n",
    "def e33(t,mu,s,a):\n",
    "    return (-3*mu + 9*(s*a - 1)/(a + 1))*16\n",
    "\n",
    "def e716(t,mu,s,a):\n",
    "#     return -21*mu + 18*s*a/(a + 1) - 36/(a + 1)\n",
    "    return -21*mu + 27*(s*a - 1)/(a + 1)\n",
    "\n",
    "def esf(t,mu,s,a):\n",
    "    return (-9*(t + mu/6)**2/(2*t + gamma(s,a)))*16\n",
    "\n",
    "def lst(t,mu,s,a):\n",
    "    if (term2(t,mu,s,a) > 0 \\\n",
    "        and 1 >= term1(t,mu,s,a)/term3(t,mu,s,a) \\\n",
    "        and term1(t,mu,s,a)/term3(t,mu,s,a) > 0):\n",
    "        return [e13(t,mu,s,a), e716(t,mu,s,a), e23(t,mu,s,a), e33(t,mu,s,a), esf(t,mu,s,a), 0.0]\n",
    "    else:\n",
    "        return [e13(t,mu,s,a), e716(t,mu,s,a), e23(t,mu,s,a), e33(t,mu,s,a), 999999.0, 0.0]\n",
    "\n",
    "def pref_state(t,mu,s,a):\n",
    "    return lst(t,mu,s,a).index(min(lst(t,mu,s,a)))"
   ]
  },
  {
   "cell_type": "code",
   "execution_count": 8,
   "metadata": {},
   "outputs": [],
   "source": [
    "tinterp = interpolate.CubicSpline(delta,t)\n",
    "Vinterp = interpolate.CubicSpline(delta_sim,V_sim)\n",
    "Vpinterp = interpolate.CubicSpline(delta,Vp)\n",
    "ainterp = interpolate.CubicSpline(delta,np.array(V_sim)/np.array(Vp))"
   ]
  },
  {
   "cell_type": "code",
   "execution_count": 9,
   "metadata": {
    "scrolled": true
   },
   "outputs": [
    {
     "name": "stdout",
     "output_type": "stream",
     "text": [
      "1000\n",
      "1000\n",
      "1000\n",
      "3000\n"
     ]
    },
    {
     "data": {
      "image/png": "[encoded data removed]",
      "text/plain": [
       "<Figure size 432x288 with 4 Axes>"
      ]
     },
     "metadata": {
      "needs_background": "light"
     },
     "output_type": "display_data"
    }
   ],
   "source": [
    "nx = 1000\n",
    "ny = 3000\n",
    "delta_new = np.linspace(0, 0.3, nx)\n",
    "\n",
    "tnew = tinterp(delta_new)   # use interpolation function returned by `interp1d`\n",
    "Vnew = Vinterp(delta_new)\n",
    "Vpnew = Vpinterp(delta_new)\n",
    "anew = ainterp(delta_new)\n",
    "fig, axs = plt.subplots(2, 2)\n",
    "axs[0,0].plot(delta, t, 'o', delta_new, tnew, '-')\n",
    "axs[0,1].plot(delta_sim, V_sim, 'o', delta_new, Vnew, '-')\n",
    "axs[1,0].plot(delta, Vp, 'o', delta_new, Vpnew, '-')\n",
    "axs[1,1].plot(delta, np.array(V_sim)/np.array(Vp), 'o', delta_new, anew, '-')\n",
    "\n",
    "a_lst = [-x/y if x>=0 else x/y for x, y in zip(Vnew,Vpnew)]\n",
    "s_lst = [1 if x>=0 else -1 for x in Vnew]\n",
    "norm = [x-y if x>=0 else -x-y for x, y in zip(Vnew,Vpnew)]\n",
    "\n",
    "mu_lst = np.linspace(-20,120,ny)\n",
    "tbar = [x/y for x, y in zip(tnew,norm)]\n",
    "\n",
    "print(len(a_lst))\n",
    "print(len(s_lst))\n",
    "print(len(tbar))\n",
    "print(len(mu_lst))"
   ]
  },
  {
   "cell_type": "code",
   "execution_count": 10,
   "metadata": {},
   "outputs": [],
   "source": [
    "# import matplotlib.font_manager as font_manager\n",
    "# from matplotlib import rcParams\n",
    "# font_dir = ['/usr/share/fonts/HelveticaNeue']\n",
    "# matplotlib.font_manager.findSystemFonts(fontpaths=font_dir, fontext='ttf')"
   ]
  },
  {
   "cell_type": "code",
   "execution_count": 11,
   "metadata": {},
   "outputs": [],
   "source": [
    "# # Add every font at the specified location\n",
    "# font_dir = ['/usr/share/fonts/HelveticaNeue']\n",
    "# for font in font_manager.findSystemFonts(font_dir):\n",
    "#     print(font)\n",
    "#     font_manager.fontManager.addfont(font)"
   ]
  },
  {
   "cell_type": "markdown",
   "metadata": {},
   "source": [
    "# Abstract PD"
   ]
  },
  {
   "cell_type": "markdown",
   "metadata": {},
   "source": [
    "# a = 33 (0% strain)"
   ]
  },
  {
   "cell_type": "code",
   "execution_count": 26,
   "metadata": {},
   "outputs": [],
   "source": [
    "import matplotlib.colors as mcolors\n",
    "import matplotlib.patches as patches\n",
    "\n",
    "def ab_pdmaker (t, mu, data, dt, dmu):\n",
    "#     cmap = plt.cm.get_cmap('viridis')\n",
    "#     colors = [cmap(i*0.3) for i in range(4)]\n",
    "    if len(np.unique(data)) >= 5:\n",
    "        cMap = mcolors.ListedColormap([\n",
    "            'aquamarine', \n",
    "            'turquoise', \n",
    "            'lightseagreen', \n",
    "            'coral', \n",
    "            'snow'])\n",
    "        fig, ax = plt.subplots()\n",
    "        p1 = ax.contourf(t, mu, data, 5, vmin = 0, vmax = 5, cmap = cMap)\n",
    "    else:\n",
    "        cMap = mcolors.ListedColormap([ \n",
    "            'lightseagreen', \n",
    "            'coral', \n",
    "            'snow'])\n",
    "        fig, ax = plt.subplots()\n",
    "        p1 = ax.contourf(t, mu, data, 3, vmin = 3, vmax = 5, cmap = cMap)\n",
    "\n",
    "#     ax.set_title('Phase Diagram')\n",
    "    ax.set_xlabel('tbar', fontsize = 16)\n",
    "    ax.set_ylabel('mubar', fontsize = 16)\n",
    "    ax.tick_params(axis='both', which='major', labelsize=14)\n",
    "    ax.set_xlim(0,0.69)\n",
    "    ax.set_ylim(-7.9,7.9)\n",
    "    \n",
    "    if dt < 0.05:\n",
    "        rect = patches.Rectangle((0.05, -6.0), dt*10, dmu*10, ec=\"dodgerblue\", fill=False)\n",
    "        ax.add_patch(rect)\n",
    "        ax.text(0.1, -6.0, '10 grid box size', fontsize = 12,)\n",
    "    \n",
    "    else:\n",
    "        xgridset = np.arange(0, 0.7, dt)\n",
    "        ygridset = np.arange(-8, 8, dmu)\n",
    "\n",
    "        ax.set_xticks(xgridset, minor=True)\n",
    "        ax.set_yticks(ygridset, minor=True)\n",
    "        ax.grid(which='minor', color='dodgerblue', linewidth=0.6)\n",
    "        ax.tick_params(which='minor', bottom=False, left=False)\n",
    "    \n",
    "#     cbar = fig.colorbar(p1)\n",
    "#     cbar.ax.set_ylabel('Phase Index')\n",
    "    plt.tight_layout()\n",
    "    plt.show()\n",
    "    return fig"
   ]
  },
  {
   "cell_type": "code",
   "execution_count": 13,
   "metadata": {},
   "outputs": [],
   "source": [
    "nx = 500\n",
    "ny = 500"
   ]
  },
  {
   "cell_type": "code",
   "execution_count": 14,
   "metadata": {},
   "outputs": [],
   "source": [
    "ab_tbar = np.linspace(0,0.7,nx)\n",
    "ab_mubar = np.linspace(-8,8,ny)\n",
    "ab_data = np.zeros((ny,nx))\n",
    "s = 1\n",
    "a = 33\n",
    "ainterp_2 = interpolate.CubicSpline(delta,np.array(V_sim)/np.array(Vp)+a)\n",
    "root = ainterp_2.roots()[0]\n",
    "sampleV = Vinterp(root)\n",
    "sampleVp = Vpinterp(root)\n",
    "dt = 0.2/(abs(sampleV)+abs(sampleVp))\n",
    "dmu = 5/(abs(sampleV)+abs(sampleVp))\n",
    "\n",
    "for i in range(nx):\n",
    "    for j in range(ny):\n",
    "        ab_data[j,i] = pref_state(ab_tbar[i],ab_mubar[j],s,a)"
   ]
  },
  {
   "cell_type": "code",
   "execution_count": 27,
   "metadata": {},
   "outputs": [
    {
     "data": {
      "image/png": "[encoded data removed]",
      "text/plain": [
       "<Figure size 432x288 with 1 Axes>"
      ]
     },
     "metadata": {
      "needs_background": "light"
     },
     "output_type": "display_data"
    }
   ],
   "source": [
    "fig1 = ab_pdmaker(ab_tbar, ab_mubar, ab_data, dt, dmu)\n",
    "fig1.savefig('pd1.png')"
   ]
  },
  {
   "cell_type": "markdown",
   "metadata": {},
   "source": [
    "# a = 1"
   ]
  },
  {
   "cell_type": "code",
   "execution_count": 28,
   "metadata": {},
   "outputs": [],
   "source": [
    "ab_tbar = np.linspace(0,0.7,nx)\n",
    "ab_mubar = np.linspace(-8,8,ny)\n",
    "ab_data = np.zeros((ny,nx))\n",
    "s = 1\n",
    "a = 1\n",
    "ainterp_2 = interpolate.CubicSpline(delta,np.array(V_sim)/np.array(Vp)+a)\n",
    "root = ainterp_2.roots()[0]\n",
    "sampleV = Vinterp(root)\n",
    "sampleVp = Vpinterp(root)\n",
    "dt = 0.2/(abs(sampleV)+abs(sampleVp))\n",
    "dmu = 5/(abs(sampleV)+abs(sampleVp))\n",
    "\n",
    "for i in range(nx):\n",
    "    for j in range(ny):\n",
    "        ab_data[j,i] = pref_state(ab_tbar[i],ab_mubar[j],s,a)"
   ]
  },
  {
   "cell_type": "code",
   "execution_count": 29,
   "metadata": {},
   "outputs": [
    {
     "data": {
      "image/png": "[encoded data removed]",
      "text/plain": [
       "<Figure size 432x288 with 1 Axes>"
      ]
     },
     "metadata": {
      "needs_background": "light"
     },
     "output_type": "display_data"
    }
   ],
   "source": [
    "fig2 = ab_pdmaker(ab_tbar, ab_mubar, ab_data, dt, dmu)\n",
    "fig2.savefig('pd2.png')"
   ]
  },
  {
   "cell_type": "markdown",
   "metadata": {},
   "source": [
    "# s = -1, a = 1 (both attractive)"
   ]
  },
  {
   "cell_type": "code",
   "execution_count": 99,
   "metadata": {},
   "outputs": [],
   "source": [
    "ab_tbar = np.linspace(0,0.7,nx)\n",
    "ab_mubar = np.linspace(-8,8,ny)\n",
    "ab_data = np.zeros((ny,nx))\n",
    "s = -1.0\n",
    "a = 1.0\n",
    "ainterp_2 = interpolate.CubicSpline(delta,np.array(V_sim)/np.array(Vp)-a)\n",
    "root = ainterp_2.roots()[0]\n",
    "sampleV = Vinterp(root)\n",
    "sampleVp = Vpinterp(root)\n",
    "dt = 0.2/(abs(sampleV)+abs(sampleVp))\n",
    "dmu = 4/(abs(sampleV)+abs(sampleVp))\n",
    "\n",
    "for i in range(nx):\n",
    "    for j in range(ny):\n",
    "        ab_data[j,i] = pref_state(ab_tbar[i],ab_mubar[j],s,a)"
   ]
  },
  {
   "cell_type": "code",
   "execution_count": 100,
   "metadata": {},
   "outputs": [
    {
     "data": {
      "image/png": "[encoded data removed]",
      "text/plain": [
       "<Figure size 432x288 with 1 Axes>"
      ]
     },
     "metadata": {
      "needs_background": "light"
     },
     "output_type": "display_data"
    }
   ],
   "source": [
    "ab_pdmaker(ab_tbar, ab_mubar, ab_data, dt, dmu)\n",
    "fig3.savefig('pd1.png')"
   ]
  },
  {
   "cell_type": "markdown",
   "metadata": {},
   "source": [
    "# Physical PD"
   ]
  },
  {
   "cell_type": "code",
   "execution_count": 168,
   "metadata": {},
   "outputs": [
    {
     "name": "stdout",
     "output_type": "stream",
     "text": [
      "(3000, 1000)\n",
      "(3000, 1000)\n"
     ]
    }
   ],
   "source": [
    "mubar = np.zeros((ny,nx))\n",
    "data = np.zeros((ny,nx))\n",
    "print(np.shape(mubar))\n",
    "print(np.shape(data))\n",
    "for i in range(nx):\n",
    "    for j in range(ny):\n",
    "        mubar[j,i] = mu_lst[j]/norm[i]\n",
    "\n",
    "for i in range(nx):\n",
    "    for j in range(ny):\n",
    "        data[j,i] = pref_state(tbar[i],mubar[j,i],s_lst[i],a_lst[i])"
   ]
  },
  {
   "cell_type": "code",
   "execution_count": 169,
   "metadata": {},
   "outputs": [
    {
     "data": {
      "image/png": "[encoded data removed]",
      "text/plain": [
       "<Figure size 432x288 with 2 Axes>"
      ]
     },
     "metadata": {
      "needs_background": "light"
     },
     "output_type": "display_data"
    }
   ],
   "source": [
    "# cmap = plt.cm.get_cmap('Accent')\n",
    "cmap = plt.cm.get_cmap('viridis')\n",
    "\n",
    "colors = [cmap(i*0.3) for i in range(4)]\n",
    "\n",
    "fig, ax = plt.subplots()\n",
    "\n",
    "# X, Y = np.meshgrid(delta_new, mu_lst)\n",
    "p1 = ax.contourf(delta_new, mu_lst, data, 6, vmin = -1, vmax = 5)\n",
    "\n",
    "ax.set_title('Phase Diagram')\n",
    "ax.set_xlabel('strain (%)')\n",
    "ax.set_ylabel('mu (K)')\n",
    "\n",
    "cbar = fig.colorbar(p1)\n",
    "cbar.ax.set_ylabel('Phase Index')\n",
    "# Add the contour line levels to the colorbar\n",
    "# cbar.add_lines(p1)\n",
    "\n",
    "# plt.colorbar(p1)\n",
    "# cbar.ax.set_ylabel('verbosity coefficient')\n",
    "# # Add the contour line levels to the colorbar\n",
    "# cbar.add_lines(CS2)\n",
    "# plt.xlabel(\"strain (%)\")\n",
    "# plt.ylabel(\"mu\")\n",
    "plt.show()\n",
    "# fig.savefig('phase_diagram_strain2.png')"
   ]
  }
 ],
 "metadata": {
  "kernelspec": {
   "display_name": "Python 3",
   "language": "python",
   "name": "python3"
  },
  "language_info": {
   "codemirror_mode": {
    "name": "ipython",
    "version": 3
   },
   "file_extension": ".py",
   "mimetype": "text/x-python",
   "name": "python",
   "nbconvert_exporter": "python",
   "pygments_lexer": "ipython3",
   "version": "3.8.5"
  }
 },
 "nbformat": 4,
 "nbformat_minor": 4
}
