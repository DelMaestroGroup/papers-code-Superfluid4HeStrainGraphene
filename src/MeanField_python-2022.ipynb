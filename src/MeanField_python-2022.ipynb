{
 "cells": [
  {
   "cell_type": "code",
   "execution_count": 1,
   "metadata": {},
   "outputs": [],
   "source": [
    "# %load ../include/header.py\n",
    "import numpy as np\n",
    "import matplotlib.pyplot as plt\n",
    "from graphenetools import gt\n",
    "import re,glob,os\n",
    "from scipy.interpolate import interp1d\n",
    "from scipy import interpolate\n",
    "import sys,importlib\n",
    "# from collections import defaultdict\n",
    "from numpy import pi as π\n",
    "import dgutils\n",
    "\n",
    "import matplotlib.colors as mcolors\n",
    "import matplotlib.patches as patches\n",
    "import matplotlib.patheffects as path_effects\n",
    "\n",
    "# Notebook display options\n",
    "%matplotlib inline\n",
    "%config InlineBackend.figure_format = 'retina'"
   ]
  },
  {
   "cell_type": "code",
   "execution_count": 2,
   "metadata": {},
   "outputs": [],
   "source": [
    "### plot style\n",
    "plot_style = {'notebook':'../include/notebook.mplstyle','sans':'../include/sans_NC.mplstyle', 'aps':'../include/aps.mplstyle'}\n",
    "plt.style.reload_library()\n",
    "plt.style.use(plot_style['aps'])\n",
    "figsize = plt.rcParams['figure.figsize']\n",
    "\n",
    "colors = plt.rcParams['axes.prop_cycle'].by_key()['color']\n",
    "\n",
    "# setup a possible custom font path\n",
    "from matplotlib import font_manager\n",
    "def what_font_path (filename):\n",
    "    for p in font_manager.findSystemFonts(fontpaths=None, fontext=\"ttf\"):\n",
    "        if p.find(filename) != -1:\n",
    "            return p\n",
    "\n",
    "font_path,bold_font_path = '.','.'\n",
    "if 'LOCAL_FONT_PATH' in os.environ:\n",
    "    font_path = os.environ['LOCAL_FONT_PATH'] + os.path.sep + 'HelveticaNeue/HelveticaNeue-Light-08.ttf'\n",
    "    bold_font_path = os.environ['LOCAL_FONT_PATH'] + os.path.sep + 'HelveticaNeue/HelveticaNeue-Bold-02.ttf'\n",
    "else:\n",
    "    # local path (custom)\n",
    "    font_path = what_font_path('HelveticaNeue-Light-08')\n",
    "    bold_font_path = what_font_path('HelveticaNeue-Bold-02')"
   ]
  },
  {
   "cell_type": "code",
   "execution_count": 3,
   "metadata": {},
   "outputs": [],
   "source": [
    "grey = '#a7a7a7'\n",
    "dgrey = '#303030'"
   ]
  },
  {
   "cell_type": "code",
   "execution_count": 4,
   "metadata": {},
   "outputs": [],
   "source": [
    "# input data\n",
    "delta,t,V,Vp = np.genfromtxt('../data/BH_vs_strain.dat',unpack=True,missing_values='N/A')"
   ]
  },
  {
   "cell_type": "code",
   "execution_count": 5,
   "metadata": {},
   "outputs": [],
   "source": [
    "tinterp = interpolate.CubicSpline(delta,t)\n",
    "Vinterp = interpolate.CubicSpline(delta,V)\n",
    "Vpinterp = interpolate.CubicSpline(delta,Vp)\n",
    "ainterp = interpolate.CubicSpline(delta,np.array(V)/np.array(Vp))"
   ]
  },
  {
   "cell_type": "code",
   "execution_count": 6,
   "metadata": {},
   "outputs": [],
   "source": [
    "# Define energy list\n",
    "\n",
    "def gamma(s,a):\n",
    "    return (s*a - 1)/(a + 1)\n",
    "\n",
    "def term1(t,mu,s,a):\n",
    "    return (t + mu/6)\n",
    "\n",
    "def term2(t,mu,s,a):\n",
    "    return (t + mu/6)*(t - mu/6 + gamma(s,a))\n",
    "\n",
    "def term3(t,mu,s,a):\n",
    "    return 2*t + gamma(s,a)\n",
    "\n",
    "def e13(t,mu,s,a):\n",
    "    return (-mu - 3/(a + 1))*16\n",
    "\n",
    "def e23(t,mu,s,a):\n",
    "    return (-2*mu + (3*s*a - 6)/(a + 1))*16\n",
    "\n",
    "def e33(t,mu,s,a):\n",
    "    return (-3*mu + 9*(s*a - 1)/(a + 1))*16\n",
    "\n",
    "def e716(t,mu,s,a):\n",
    "#     return -21*mu + 18*s*a/(a + 1) - 36/(a + 1)\n",
    "    return -21*mu + 27*(s*a - 1)/(a + 1)\n",
    "\n",
    "def esf(t,mu,s,a):\n",
    "    return (-9*(t + mu/6)**2/(2*t + gamma(s,a)))*16\n",
    "\n",
    "def lst(t,mu,s,a):\n",
    "    if (term2(t,mu,s,a) > 0 \\\n",
    "        and 1 >= term1(t,mu,s,a)/term3(t,mu,s,a) \\\n",
    "        and term1(t,mu,s,a)/term3(t,mu,s,a) > 0):\n",
    "        return [e13(t,mu,s,a), e716(t,mu,s,a), e23(t,mu,s,a), e33(t,mu,s,a), esf(t,mu,s,a), 0.0]\n",
    "    else:\n",
    "        return [e13(t,mu,s,a), e716(t,mu,s,a), e23(t,mu,s,a), e33(t,mu,s,a), 999999.0, 0.0]\n",
    "\n",
    "def pref_state(t,mu,s,a):\n",
    "    return lst(t,mu,s,a).index(min(lst(t,mu,s,a)))\n",
    "\n",
    "def pref_state_SS_included(t,mu,s,a, SS_energy = 999999.0):\n",
    "    lst_new = lst(t,mu,s,a)\n",
    "    lst_new.append(SS_energy)\n",
    "    return lst_new.index(min(lst_new))"
   ]
  },
  {
   "cell_type": "code",
   "execution_count": 7,
   "metadata": {
    "scrolled": true
   },
   "outputs": [],
   "source": [
    "nx = 1001\n",
    "ny = 1001\n",
    "\n",
    "delta_new = np.linspace(0, 0.3, nx)\n",
    "\n",
    "tnew = tinterp(delta_new)   # use interpolation function returned by `interp1d`\n",
    "Vnew = Vinterp(delta_new)\n",
    "Vpnew = Vpinterp(delta_new)\n",
    "anew = ainterp(delta_new)\n",
    "\n",
    "a_lst = [-x/y if x>=0 else x/y for x, y in zip(Vnew,Vpnew)]\n",
    "s_lst = [1 if x>=0 else -1 for x in Vnew]\n",
    "norm = [x-y if x>=0 else -x-y for x, y in zip(Vnew,Vpnew)]\n",
    "\n",
    "mu_new = np.linspace(-20,40,ny)\n",
    "tbar = [x/y for x, y in zip(tnew,norm)]"
   ]
  },
  {
   "cell_type": "code",
   "execution_count": 8,
   "metadata": {},
   "outputs": [
    {
     "data": {
      "image/png": "[encoded data removed]",
      "text/plain": [
       "<Figure size 249.451x154.168 with 4 Axes>"
      ]
     },
     "metadata": {
      "image/png": {
       "height": 146,
       "width": 246
      },
      "needs_background": "light"
     },
     "output_type": "display_data"
    }
   ],
   "source": [
    "fig, axs = plt.subplots(2, 2)\n",
    "axs[0,0].plot(delta, t, 'o', delta_new, tnew, '-')\n",
    "axs[0,1].plot(delta, V, 'o', delta_new, Vnew, '-')\n",
    "axs[1,0].plot(delta, Vp, 'o', delta_new, Vpnew, '-')\n",
    "axs[1,1].plot(delta, np.array(V)/np.array(Vp), 'o', delta_new, anew, '-');"
   ]
  },
  {
   "cell_type": "markdown",
   "metadata": {},
   "source": [
    "# Abstract PD"
   ]
  },
  {
   "cell_type": "markdown",
   "metadata": {},
   "source": [
    "# a = 33 (0% strain)"
   ]
  },
  {
   "cell_type": "code",
   "execution_count": 9,
   "metadata": {},
   "outputs": [],
   "source": [
    "def get_cmap(phases):\n",
    "    colors = {'0.0':'#22b2aa55', '2.0':'#22b2aa99', \n",
    "              '3.0':'#22b2aa', '4.0':'coral', \n",
    "              '5.0':'#e6e2dc', '6.0':'#FEFF60'}\n",
    "    return mcolors.ListedColormap([colors[str(p)] for p in phases])\n",
    "\n",
    "def ab_pdmaker (ax,t, mu, data, VoVp, show_grid=False, grid_scale=1, locate_system=None, \n",
    "               labels=None, label_loc=None):\n",
    "    \n",
    "    phases = np.unique(data)\n",
    "    cMap = get_cmap(phases)\n",
    "    p1 = ax.contourf(t, mu, data, len(phases), vmin = np.min(phases), vmax = np.max(phases), cmap = cMap)\n",
    "\n",
    "    ax.set_xlabel(r'$t\\,/\\,\\left(|V|+|V^{\\prime}|\\right)$')\n",
    "    ax.set_ylabel(r'$\\mu\\,/\\,\\left(|V|+|V^{\\prime}|\\right)$')\n",
    "\n",
    "    #ax.tick_params(axis='both', which='major', labelsize=14)\n",
    "    ax.set_xlim(0,0.69)\n",
    "    ax.set_ylim(-7.9,7.9)\n",
    "    \n",
    "    # Add a x to specify the system location\n",
    "    if locate_system is not None:\n",
    "        if locate_system[2] == 'a':\n",
    "            ax.annotate(\"\",xy=(locate_system[0],locate_system[1]), xycoords='data',xytext=(0.1,-2.5),\n",
    "                       arrowprops=dict(arrowstyle=\"-|>\",color='k',lw=0.5,shrinkA=0.02,shrinkB=0.02))\n",
    "            ax.annotate(r'$^4$He on graphene',xy=(0.05,-2.5), xycoords='data',xytext=(0.05,-2.5),\n",
    "                       ha='left',va='top' )\n",
    "            ax.plot(*locate_system[:2], marker='x', color='k', ms=4) #mew=0.5,?\n",
    "        elif locate_system[2] == 'c' or locate_system[2] == 'd':\n",
    "#             ax.annotate(\"\",xy=(locate_system[0],locate_system[1]), xycoords='data',xytext=(0.55,-2),\n",
    "#                        arrowprops=dict(arrowstyle=\"-|>\",color='k',lw=0.5,shrinkA=0.02,shrinkB=0.02))\n",
    "            ax.plot(*locate_system[:2], marker='x', color='k', ms=4)\n",
    "        \n",
    "    # Add some possible phase labels\n",
    "    if labels is not None:\n",
    "        path_eff = [path_effects.withSimplePatchShadow(offset=(0.05, -0.05), shadow_rgbFace='k', alpha=0.9)]\n",
    "\n",
    "        for lab,loc in zip(labels,label_loc):\n",
    "            col='k'\n",
    "            ax.text(*loc, lab, va='center',ha='left', color=col, path_effects=path_eff)\n",
    "            \n",
    "    # add the V/V' label\n",
    "    ax.text(0.685,7.75, r'$V\\,/\\,|V^\\prime| \\simeq $' + f'{VoVp}', va='top',ha='right')\n",
    "\n",
    "    return ax"
   ]
  },
  {
   "cell_type": "code",
   "execution_count": 10,
   "metadata": {},
   "outputs": [],
   "source": [
    "# def get_cmap(phases):\n",
    "#     colors = {'0.0':'#22b2aa55', '2.0':'#22b2aa99', \n",
    "#               '3.0':'#22b2aa', '4.0':'coral', \n",
    "#               '5.0':'#e6e2dc', '6.0':'#FEFF60'}\n",
    "#     return mcolors.ListedColormap([colors[str(p)] for p in phases])\n",
    "\n",
    "# def ab_pdmaker (ax,t, mu, data, dt, dmu, VoVp, show_grid=False, grid_scale=1, locate_system=None, \n",
    "#                labels=None, label_loc=None):\n",
    "    \n",
    "#     phases = np.unique(data)\n",
    "#     cMap = get_cmap(phases)\n",
    "#     p1 = ax.contourf(t, mu, data, len(phases), vmin = np.min(phases), vmax = np.max(phases), cmap = cMap)\n",
    "\n",
    "#     ax.set_xlabel(r'$t\\,/\\,\\left(|V|+|V^{\\prime}|\\right)$')\n",
    "#     ax.set_ylabel(r'$\\mu\\,/\\,\\left(|V|+|V^{\\prime}|\\right)$')\n",
    "\n",
    "#     #ax.tick_params(axis='both', which='major', labelsize=14)\n",
    "#     ax.set_xlim(0,0.69)\n",
    "#     ax.set_ylim(-7.9,7.9)\n",
    "    \n",
    "#     if show_grid:\n",
    "#         xgridset = np.arange(0, 0.7, dt)\n",
    "#         ygridset = np.arange(-8, 8, dmu)\n",
    "\n",
    "#         ax.set_xticks(xgridset, minor=True)\n",
    "#         ax.set_yticks(ygridset, minor=True)\n",
    "#         ax.grid(which='minor', color='dodgerblue', linewidth=0.6)\n",
    "#         ax.tick_params(which='minor', bottom=False, left=False)\n",
    "        \n",
    "#     else:\n",
    "#         rect = patches.Rectangle((0.01, -7.7), dt*grid_scale, dmu*grid_scale, ec=dgrey, fill=False, \n",
    "#                                  lw=0.35)\n",
    "#         ax.add_patch(rect)\n",
    "#         scale_text = ''\n",
    "#         if grid_scale > 1:\n",
    "#             scale_text = f'{grid_scale}' + r'$\\times\\,$'\n",
    "#         ax.text(0.015+dt*grid_scale, -7.8, scale_text + 'grid size', va='bottom',ha='left', color=dgrey)\n",
    "        \n",
    "#     # Add a x to specify the system location\n",
    "#     if locate_system is not None:\n",
    "        \n",
    "#         ax.annotate(\"\",xy=(locate_system[0],locate_system[1]), xycoords='data',xytext=(0.1,-2.5),\n",
    "#                    arrowprops=dict(arrowstyle=\"-|>\",color='k',lw=0.5,shrinkA=0.02,shrinkB=0.02))\n",
    "#         ax.annotate(r'$^4$He on graphene',xy=(0.05,-2.5), xycoords='data',xytext=(0.05,-2.5),\n",
    "#                    ha='left',va='top' )\n",
    "#         ax.plot(*locate_system, marker='x', color='k', mew=0.5, ms=2)\n",
    "        \n",
    "#     # Add some possible phase labels\n",
    "#     if labels is not None:\n",
    "#         path_eff = [path_effects.withSimplePatchShadow(offset=(0.05, -0.05), shadow_rgbFace='k', alpha=0.9)]\n",
    "\n",
    "#         for lab,loc in zip(labels,label_loc):\n",
    "#             col='k'\n",
    "#             ax.text(*loc, lab, va='center',ha='left', color=col, path_effects=path_eff)\n",
    "            \n",
    "#     # add the V/V' label\n",
    "#     ax.text(0.685,7.75, r'$V\\,/\\,|V^\\prime| \\simeq $' + f'{VoVp}', va='top',ha='right')\n",
    "\n",
    "#     return ax"
   ]
  },
  {
   "cell_type": "code",
   "execution_count": 11,
   "metadata": {},
   "outputs": [],
   "source": [
    "def get_pd_data(nx,ny,s,a,delta,V,Vp):\n",
    "    \n",
    "    ab_tbar = np.linspace(0,0.7,nx)\n",
    "    ab_mubar = np.linspace(-8,8,ny)\n",
    "    ab_data = np.zeros((ny,nx))\n",
    "    \n",
    "    ainterp_2 = interpolate.CubicSpline(delta,np.array(V)/np.array(Vp)+s*a)\n",
    "    root = ainterp_2.roots()[1]\n",
    "    samplet = tinterp(root)\n",
    "    sampleV = Vinterp(root)\n",
    "    sampleVp = Vpinterp(root)\n",
    "    \n",
    "#     dt = 0.2/(abs(sampleV)+abs(sampleVp))\n",
    "#     dmu = 5/(abs(sampleV)+abs(sampleVp))\n",
    "\n",
    "    for i in range(nx):\n",
    "        for j in range(ny):\n",
    "            ab_data[j,i] = pref_state(ab_tbar[i],ab_mubar[j],s,a)\n",
    "            \n",
    "    return ab_tbar, ab_mubar, ab_data, samplet, sampleV, sampleVp\n",
    "# dt and dmu is dimentionless parameter from 0.2 K and 5 K."
   ]
  },
  {
   "cell_type": "code",
   "execution_count": 12,
   "metadata": {},
   "outputs": [],
   "source": [
    "# Supersolid part\n",
    "# t, mu, psi_a, psi_b, rho_a, rho_b, E1/3, E2/3, E3/3, ESS, ESF \n",
    "ss_raw30 = np.genfromtxt('../data/SWData_r_30_large.csv', delimiter=\",\")\n",
    "ss_raw1 = np.genfromtxt('../data/SWData_r_1_large.csv', delimiter=\",\")"
   ]
  },
  {
   "cell_type": "code",
   "execution_count": 13,
   "metadata": {},
   "outputs": [],
   "source": [
    "def min_energy(lst):\n",
    "    lst.append(0.0)\n",
    "    lst = [round(x, 12) for x in lst]\n",
    "    min_val = min(lst)\n",
    "    if lst[0] == min_val:\n",
    "        return 0\n",
    "    if lst[1] == min_val:\n",
    "        return 2\n",
    "    if lst[2] == min_val:\n",
    "        return 3\n",
    "    if lst[4] == min_val:\n",
    "        return 4\n",
    "    if lst[3] == min_val:\n",
    "        return 6\n",
    "    if min_val == 0.0:\n",
    "        return 5"
   ]
  },
  {
   "cell_type": "code",
   "execution_count": 14,
   "metadata": {},
   "outputs": [],
   "source": [
    "ss_t30 = np.unique(ss_raw30[:,0])\n",
    "ss_mu30 = np.unique(ss_raw30[:,1])\n",
    "ss_t1 = np.unique(ss_raw1[:,0])\n",
    "ss_mu1 = np.unique(ss_raw1[:,1])\n",
    "ss_raw30 = ss_raw30.reshape((len(ss_mu30),len(ss_t30),11))\n",
    "ss_raw1 = ss_raw1.reshape((len(ss_mu1),len(ss_t1),11))"
   ]
  },
  {
   "cell_type": "code",
   "execution_count": 15,
   "metadata": {},
   "outputs": [],
   "source": [
    "def find_symmetry_line(s, a):\n",
    "    return (3*s*a - 3)/(a + 1)\n",
    "\n",
    "def find_idx(mulst, mu_line):\n",
    "    for i, mu in enumerate(mulst):\n",
    "        if mu > mu_line:\n",
    "            return i\n",
    "\n",
    "def replace_ssdata(rawdata, line_at):\n",
    "    assert len(rawdata[:,0,0])/2-1 < line_at, 'Symmetry line is below half mu'\n",
    "    for j in range(len(rawdata[:,0,0])):\n",
    "        if j > line_at:\n",
    "            for i in range(len(rawdata[0,:,0])):\n",
    "#                 rawdata[j,i,-2] = rawdata[2*line_at-j,i,-2]\n",
    "                rawdata[j,i,-2] = 999999\n",
    "    return rawdata"
   ]
  },
  {
   "cell_type": "code",
   "execution_count": 15,
   "metadata": {},
   "outputs": [],
   "source": [
    "sym_line_at30 = find_idx(ss_mu30, find_symmetry_line(1,30))\n",
    "sym_line_at1 = find_idx(ss_mu1, find_symmetry_line(1,1))\n",
    "\n",
    "# ss_data30 = replace_ssdata(ss_raw30, sym_line_at30)\n",
    "# ss_data1 = replace_ssdata(ss_raw1, sym_line_at1)\n",
    "ss_data30 = ss_raw30\n",
    "ss_data1 = ss_raw1"
   ]
  },
  {
   "cell_type": "code",
   "execution_count": 16,
   "metadata": {},
   "outputs": [],
   "source": [
    "small_pd_data30 = np.zeros((len(ss_mu30), len(ss_t30)))\n",
    "small_pd_data1 = np.zeros((len(ss_mu1), len(ss_t1)))\n",
    "\n",
    "for j in range(len(ss_mu30)):\n",
    "    for i in range(len(ss_t30)):\n",
    "        if term2(ss_t30[i], ss_mu30[j], 1, 30)>0:\n",
    "            mylst = list(ss_data30[j,i,-5:])\n",
    "            small_pd_data30[j,i] = min_energy(mylst)\n",
    "        else:\n",
    "            mylst = list(ss_data30[j,i,-5:-1])\n",
    "            mylst.append(999999)\n",
    "            small_pd_data30[j,i] = min_energy(mylst)\n",
    "\n",
    "for j in range(len(ss_mu1)):\n",
    "    for i in range(len(ss_t1)):\n",
    "        if term2(ss_t1[i], ss_mu1[j], 1, 1)>0:\n",
    "            mylst = list(ss_data1[j,i,-5:])\n",
    "            small_pd_data1[j,i] = min_energy(mylst)\n",
    "        else:\n",
    "            mylst = list(ss_data1[j,i,-5:-1])\n",
    "            mylst.append(999999)\n",
    "            small_pd_data1[j,i] = min_energy(mylst)"
   ]
  },
  {
   "cell_type": "code",
   "execution_count": 17,
   "metadata": {},
   "outputs": [],
   "source": [
    "def replace_phase(pddata, line_at):\n",
    "    assert len(pddata)/2-1 < line_at, 'Symmetry line is below half mu'\n",
    "    for j in range(len(pddata)):\n",
    "        if j >= line_at-1:\n",
    "            for i in range(len(pddata[0,:])):\n",
    "                if pddata[2*line_at-j-1,i] == 6:\n",
    "                    pddata[j,i] = 6\n",
    "    return pddata"
   ]
  },
  {
   "cell_type": "code",
   "execution_count": 18,
   "metadata": {},
   "outputs": [],
   "source": [
    "small_pd_data30_v2 = replace_phase(small_pd_data30,sym_line_at30)\n",
    "small_pd_data1_v2 = replace_phase(small_pd_data1,sym_line_at1)"
   ]
  },
  {
   "cell_type": "code",
   "execution_count": 19,
   "metadata": {},
   "outputs": [],
   "source": [
    "ss_data30_set = [ss_t30, ss_mu30, small_pd_data30_v2]\n",
    "ss_data1_set = [ss_t1, ss_mu1, small_pd_data1_v2]"
   ]
  },
  {
   "cell_type": "code",
   "execution_count": 20,
   "metadata": {},
   "outputs": [],
   "source": [
    "data_pd = {}\n",
    "data_pd['a=30'] = get_pd_data(nx,ny,1,30,delta,V,Vp)\n",
    "data_pd['a=-1'] = get_pd_data(nx,ny,-1,1,delta,V,Vp)\n",
    "data_pd['a=1'] = get_pd_data(nx,ny,1,1,delta,V,Vp)"
   ]
  },
  {
   "cell_type": "code",
   "execution_count": 21,
   "metadata": {},
   "outputs": [],
   "source": [
    "def is_increment(a1, a2):\n",
    "    return round(a1[1]-a1[0], 5) == round(a2[1]-a2[0],5)\n",
    "\n",
    "def substitutor(data_set, ssdata_set):\n",
    "    if is_increment(data_set[0], ssdata_set[0]) and is_increment(data_set[1], ssdata_set[1]):\n",
    "        t_idx = np.where(data_set[0] == ssdata_set[0][0])[0][0]\n",
    "        mu_idx = np.where(data_set[1] == ssdata_set[1][0])[0][0]\n",
    "        \n",
    "        for j in range(len(data_set[1])):\n",
    "            for i in range(len(data_set[0])):\n",
    "                if i >= t_idx and i < t_idx+len(ssdata_set[0])\\\n",
    "                and j >= mu_idx and j < mu_idx+len(ssdata_set[1]):\n",
    "                    data_set[2][j,i] = ssdata_set[2][j-mu_idx,i-t_idx]\n",
    "        return data_set\n",
    "    else:\n",
    "        print('cannot replace data')\n",
    "        return data_set"
   ]
  },
  {
   "cell_type": "code",
   "execution_count": 22,
   "metadata": {},
   "outputs": [],
   "source": [
    "data_pd_revised30 = substitutor(data_pd['a=30'], ss_data30_set)\n",
    "data_pd_revised1 = substitutor(data_pd['a=1'], ss_data1_set)"
   ]
  },
  {
   "cell_type": "code",
   "execution_count": 24,
   "metadata": {},
   "outputs": [
    {
     "data": {
      "image/png": "[encoded data removed]",
      "text/plain": [
       "<Figure size 154.168x154.168 with 1 Axes>"
      ]
     },
     "metadata": {
      "image/png": {
       "height": 148,
       "width": 148
      },
      "needs_background": "light"
     },
     "output_type": "display_data"
    }
   ],
   "source": [
    "plt.style.reload_library()\n",
    "with plt.style.context(plot_style['aps']):\n",
    "    \n",
    "    fig,ax = plt.subplots(1,1,figsize=(figsize[1],figsize[1]),constrained_layout=True)\n",
    "#     dgutils.fonts.set_custom_font(font_path)\n",
    "    \n",
    "    labels=['vacuum','SF',r'$n=1/3$',r'$n=2/3$',r'$n=1$','SS']\n",
    "    label_loc = [[0.2,-5],[0.45,2.5],[0.075,1.1],[0.075,4.3],[0.075,7.25],[0.18,2.7]]\n",
    "    [t_current,V_current,Vp_current] = data_pd_revised30[-3:]\n",
    "    tloc = t_current/(np.abs(V_current) + np.abs(Vp_current))\n",
    "    muloc = 1\n",
    "    ax = ab_pdmaker(ax,*data_pd_revised30[:-3], 30,\n",
    "                   locate_system=[tloc,muloc,'a'], \n",
    "                   labels=labels,label_loc=label_loc)\n",
    "#    fig.savefig('../figures/MFpd_delta_0.00.pdf')"
   ]
  },
  {
   "cell_type": "markdown",
   "metadata": {},
   "source": [
    "# a = 1"
   ]
  },
  {
   "cell_type": "markdown",
   "metadata": {},
   "source": [
    "### Find the value of strain where V/V' = -1"
   ]
  },
  {
   "cell_type": "code",
   "execution_count": 25,
   "metadata": {},
   "outputs": [
    {
     "name": "stdout",
     "output_type": "stream",
     "text": [
      "δ = 0.183\n"
     ]
    },
    {
     "data": {
      "image/png": "[encoded data removed]",
      "text/plain": [
       "<Figure size 249.451x154.168 with 1 Axes>"
      ]
     },
     "metadata": {
      "image/png": {
       "height": 146,
       "width": 245
      },
      "needs_background": "light"
     },
     "output_type": "display_data"
    }
   ],
   "source": [
    "δ = np.linspace(0, 0.3, 10000)\n",
    "VoVp = ainterp(δ)\n",
    "plt.plot(δ,VoVp)\n",
    "\n",
    "idx = np.where(np.abs(VoVp+1) < 1E-2)[0][0]\n",
    "cδ = δ[idx]\n",
    "print(f'δ = {δ[idx]:.3f}')"
   ]
  },
  {
   "cell_type": "code",
   "execution_count": 26,
   "metadata": {},
   "outputs": [
    {
     "data": {
      "image/png": "[encoded data removed]",
      "text/plain": [
       "<Figure size 154.168x154.168 with 1 Axes>"
      ]
     },
     "metadata": {
      "image/png": {
       "height": 148,
       "width": 148
      },
      "needs_background": "light"
     },
     "output_type": "display_data"
    }
   ],
   "source": [
    "plt.style.reload_library()\n",
    "with plt.style.context(plot_style['aps']):\n",
    "    \n",
    "    fig,ax = plt.subplots(1,1,figsize=(figsize[1],figsize[1]),constrained_layout=True)\n",
    "#     dgutils.fonts.set_custom_font(font_path)\n",
    "    \n",
    "    labels=['vacuum','SF',r'$n=1/3$',r'$n=2/3$',r'$n=1$','SS']\n",
    "    label_loc = [[0.2,-4.0],[0.45,0],[0.075,-0.8],[0.075,0.8],[0.075,5],[0.325,-0.1]]\n",
    "    [t_current,V_current,Vp_current] = data_pd_revised1[-3:]\n",
    "    tloc = t_current/(np.abs(V_current) + np.abs(Vp_current))\n",
    "    muloc = 1/(np.abs(V_current) + np.abs(Vp_current))\n",
    "    ax = ab_pdmaker(ax,*data_pd_revised1[:-3] ,1,\n",
    "                    locate_system=[tloc,muloc,'c'],\n",
    "                    labels=labels,label_loc=label_loc)\n",
    "\n",
    "#    fig.savefig(f'../figures/MFpd_delta_{cδ:4.2f}.pdf')"
   ]
  },
  {
   "cell_type": "markdown",
   "metadata": {},
   "source": [
    "# s = -1, a = 1 (both attractive)"
   ]
  },
  {
   "cell_type": "code",
   "execution_count": 27,
   "metadata": {},
   "outputs": [
    {
     "name": "stdout",
     "output_type": "stream",
     "text": [
      "δ = 0.201\n"
     ]
    }
   ],
   "source": [
    "idx = np.where(np.abs(VoVp-1) < 1E-2)[0][0]\n",
    "cδ = δ[idx]\n",
    "print(f'δ = {δ[idx]:.3f}')"
   ]
  },
  {
   "cell_type": "code",
   "execution_count": 28,
   "metadata": {},
   "outputs": [
    {
     "data": {
      "image/png": "[encoded data removed]",
      "text/plain": [
       "<Figure size 154.168x154.168 with 1 Axes>"
      ]
     },
     "metadata": {
      "image/png": {
       "height": 148,
       "width": 148
      },
      "needs_background": "light"
     },
     "output_type": "display_data"
    }
   ],
   "source": [
    "plt.style.reload_library()\n",
    "with plt.style.context(plot_style['aps']):\n",
    "    \n",
    "    fig,ax = plt.subplots(1,1,figsize=(figsize[1],figsize[1]),constrained_layout=True)\n",
    "#     dgutils.fonts.set_custom_font(font_path)\n",
    "    \n",
    "    labels=['vacuum','SF',r'$n=1$']\n",
    "    label_loc = [[0.25,-4.5],[0.6,-3.05],[0.3,2.5]]\n",
    "    [t_current,V_current,Vp_current] = data_pd['a=-1'][-3:]\n",
    "    tloc = t_current/(np.abs(V_current) + np.abs(Vp_current))\n",
    "    muloc = 1/(np.abs(V_current) + np.abs(Vp_current))\n",
    "    ax = ab_pdmaker(ax,*data_pd['a=-1'][:-3], -1,\n",
    "                    locate_system=[tloc,muloc,'d'],\n",
    "                    labels=labels,label_loc=label_loc)\n",
    "\n",
    "#    fig.savefig(f'../figures/MFpd_delta_{cδ:4.2f}.pdf')"
   ]
  },
  {
   "cell_type": "markdown",
   "metadata": {},
   "source": [
    "## Decorate the Strained Lattice"
   ]
  },
  {
   "cell_type": "code",
   "execution_count": 16,
   "metadata": {},
   "outputs": [],
   "source": [
    "def get_unit_vec(start,end):\n",
    "    end = np.array(end)\n",
    "    start = np.array(start)\n",
    "    vec = end-start\n",
    "    length = np.linalg.norm(vec)\n",
    "    vec /= length\n",
    "    return vec,length"
   ]
  },
  {
   "cell_type": "code",
   "execution_count": 19,
   "metadata": {},
   "outputs": [],
   "source": [
    "import matplotlib as mpl\n",
    "from Bezier import Bezier\n",
    "\n",
    "# lattice vectors\n",
    "aₒ = 1.42\n",
    "a = (aₒ/2)*np.array([[np.sqrt(3),-np.sqrt(3)],[3,3]])\n",
    "\n",
    "def decorate_graphene(ax):\n",
    "    im = plt.imread('../figures/V_Vp_He_graphene.png')\n",
    "    ax.imshow(im,interpolation='none',extent=[-5.15,5.15,-4.5,4.5])\n",
    "\n",
    "    # V interaction\n",
    "    start,end = [0,0],[-a[0,0],a[1,0]]\n",
    "    vec,length = get_unit_vec(start,end)\n",
    "    V = np.array(dgutils.pypov.generate_linear_path(start + 0.2*length*vec, end - 0.15*length*vec,200))\n",
    "    Vtext = start + 0.66*vec*length\n",
    "    Vtext[0] += 0.4\n",
    "    Vtext[1] += 0.3\n",
    "\n",
    "    # V' interaction\n",
    "    start,end = [-a[0,0],-a[1,0]],[-a[0,0],a[1,0]]\n",
    "    mid = [-2.5*a[0,0],0]\n",
    "    vec1,length1 = get_unit_vec(start,mid)\n",
    "    vec2,length2 = get_unit_vec(mid,end)\n",
    "    Vptext = mid\n",
    "    Vptext[0] += 0.4\n",
    "\n",
    "    t_points = np.linspace(0, 1, 1000) \n",
    "    points = np.array([start + 0.15*length1*vec1,mid,end - 0.15*length2*vec2])\n",
    "    curve = Bezier.Curve(t_points, points)\n",
    "\n",
    "    vec,length = get_unit_vec(start,end)\n",
    "\n",
    "    with mpl.rc_context({'path.sketch': (1.5, 5, 1)}):\n",
    "        ax.plot(V[:,0],V[:,1], lw=0.5, color=grey)\n",
    "        ax.plot(curve[:,0],curve[:,1], lw=0.5, color=grey)\n",
    "\n",
    "    # Add some text labels\n",
    "#     dgutils.fonts.set_custom_font(font_path)\n",
    "    path_eff = [path_effects.withSimplePatchShadow(offset=(0.1, -0.1), shadow_rgbFace='k', alpha=1.0)]\n",
    "\n",
    "    ax.text(*Vtext,r'$V(\\delta)$',ha='center',va='center', color=dgrey,\n",
    "            path_effects=path_eff)\n",
    "    ax.text(*Vptext,r'$V^\\prime(\\delta)$',ha='center',va='center', color=dgrey,\n",
    "            path_effects=path_eff)\n",
    "    ax.text(1.5*a[0,0]+0.2,0.35,r'$t(\\delta)$',ha='center',va='center', color=dgrey,\n",
    "            path_effects=path_eff)\n",
    "    ax.text(2.3,1.7*a[1,0],r'$a_0(1+\\delta)$',ha='center',va='center', color=dgrey,\n",
    "            path_effects=path_eff, rotation=-30)\n",
    "    \n",
    "    ax.text(3.95,0.01,'strain',va='center',color='white',fontsize=5)\n",
    "    ax.text(-3.95,0.01,'strain',ha='right',va='center',color='white',fontsize=5)\n",
    "    \n",
    "    ax.text(-0.09,3.8,'strain',va='center',color='white',rotation=90,fontsize=5)\n",
    "    ax.text(-0.09,-3.75,'strain',va='center',ha='left',color='white',rotation=90,fontsize=5)\n",
    "\n",
    "    ax.patch.set_alpha(0.0)\n",
    "\n",
    "    ax.axis('off');\n",
    "\n",
    "    \n",
    "    return ax"
   ]
  },
  {
   "cell_type": "code",
   "execution_count": 21,
   "metadata": {},
   "outputs": [
    {
     "data": {
      "image/png": "[encoded data removed]",
      "text/plain": [
       "<Figure size 199.561x199.561 with 1 Axes>"
      ]
     },
     "metadata": {
      "image/png": {
       "height": 169,
       "width": 194
      },
      "needs_background": "light"
     },
     "output_type": "display_data"
    }
   ],
   "source": [
    "plt.style.reload_library()\n",
    "with plt.style.context(plot_style['aps']):\n",
    "    fig,ax = plt.subplots(figsize=((4/5)*figsize[0],(4/5)*figsize[0]),constrained_layout=True)\n",
    "#     dgutils.fonts.set_custom_font(font_path)\n",
    "    \n",
    "    ax = decorate_graphene(ax)\n",
    "\n",
    "    fig.savefig('../figures/biaxial_strain.pdf')"
   ]
  },
  {
   "cell_type": "code",
   "execution_count": 85,
   "metadata": {},
   "outputs": [
    {
     "data": {
      "text/plain": [
       "[3.4646, 2.14122]"
      ]
     },
     "execution_count": 85,
     "metadata": {},
     "output_type": "execute_result"
    }
   ],
   "source": [
    "figsize"
   ]
  },
  {
   "cell_type": "code",
   "execution_count": 84,
   "metadata": {
    "scrolled": true
   },
   "outputs": [
    {
     "name": "stdout",
     "output_type": "stream",
     "text": [
      "0.024524428701271465 1\n",
      "0.6300339997846739 0.7214099531725415\n",
      "0.6411955399619292 0.7758883740177822\n"
     ]
    },
    {
     "data": {
      "image/png": "[encoded data removed]",
      "text/plain": [
       "<Figure size 299.341x212.034 with 3 Axes>"
      ]
     },
     "metadata": {
      "image/png": {
       "height": 206,
       "width": 294
      },
      "needs_background": "light"
     },
     "output_type": "display_data"
    }
   ],
   "source": [
    "plt.style.reload_library()\n",
    "with plt.style.context(plot_style['aps']):\n",
    "    \n",
    "#    dgutils.fonts.set_custom_font(font_path)\n",
    "\n",
    "    fig = plt.figure(figsize=(1.2*figsize[0],(0.85)*figsize[0]), constrained_layout=True)\n",
    "    \n",
    "    pd0_fig,pd_fig = fig.subfigures(nrows=1,ncols=2, width_ratios=[1.5,1])\n",
    "    ax_pd0 = pd0_fig.subplots(1,1)\n",
    "    ax_pd = pd_fig.subplots(nrows=2,ncols=1)\n",
    "    \n",
    "    labels=['vacuum','SF',r'$n=1/3$',r'$n=2/3$',r'$n=1$','SS']\n",
    "    label_loc = [[0.2,-5],[0.45,2.5],[0.075,1.1],[0.075,4.3],[0.075,7.25],[0.18,2.7]]\n",
    "    [t_current,V_current,Vp_current] = data_pd_revised30[-3:]\n",
    "    tloc = t_current/(np.abs(V_current) + np.abs(Vp_current))\n",
    "    muloc = 1\n",
    "    ax_pd0 = ab_pdmaker(ax_pd0,*data_pd_revised30[:-3], 30,\n",
    "                   locate_system=[tloc,muloc,'a'], \n",
    "                   labels=labels,label_loc=label_loc)\n",
    "    print(tloc,muloc)\n",
    "\n",
    "    labels=['vacuum','SF',r'$n=1/3$',r'$n=2/3$',r'$n=1$',]\n",
    "    label_loc = [[0.2,-4.0],[0.45,0],[0.075,-0.8],[0.075,0.8],[0.075,5],]\n",
    "    [t_current,V_current,Vp_current] = data_pd_revised1[-3:]\n",
    "    tloc = t_current/(np.abs(V_current) + np.abs(Vp_current))\n",
    "    muloc = 1/(np.abs(V_current) + np.abs(Vp_current))\n",
    "    print(tloc,muloc)\n",
    "    ax_pd[0] = ab_pdmaker(ax_pd[0],*data_pd_revised1[:-3] ,1,\n",
    "                    locate_system=[tloc,muloc,'c'],\n",
    "                    labels=labels,label_loc=label_loc)\n",
    "    ax_pd[0].xaxis.set_visible(False)\n",
    "    \n",
    "    labels=['vacuum','SF',r'$n=1$']\n",
    "    label_loc = [[0.25,-4.5],[0.6,-3.05],[0.3,2.5]]\n",
    "    [t_current,V_current,Vp_current] = data_pd['a=-1'][-3:]\n",
    "    tloc = t_current/(np.abs(V_current) + np.abs(Vp_current))\n",
    "    muloc = 1/(np.abs(V_current) + np.abs(Vp_current))\n",
    "    print(tloc,muloc)\n",
    "    ax_pd[1] = ab_pdmaker(ax_pd[1],*data_pd['a=-1'][:-3], -1,\n",
    "                    locate_system=[tloc,muloc,'d'],\n",
    "                    labels=labels,label_loc=label_loc)\n",
    "    \n",
    "    # add panel labels\n",
    "    ax_pd0.text(-0.18,1.0,'(a)', ha='left',va='top', transform=ax_pd0.transAxes,\n",
    "                fontproperties=font_props) \n",
    "    #    font_props = dgutils.fonts.get_custom_font_props(bold_font_path)\n",
    "\n",
    "    #     ax_pd0.text(-0.14,1.0,'a', ha='left',va='top', transform=ax_pd0.transAxes, fontproperties=font_props) \n",
    "    #     fig.text(2/5,0.98,'b', ha='left',va='top',fontproperties=font_props)\n",
    "\n",
    "    #ax_G.text(0,1,'b',ha='left',va='top',transform=ax_G.transAxes, fontproperties=font_props)\n",
    "    for i,lab in enumerate(['(b)','(c)']):\n",
    "    #         ax_pd[i].text(-0.35,1.0,lab,ha='left',va='top',transform=ax_pd[i].transAxes, fontproperties=font_props)\n",
    "        ax_pd[i].text(-0.3,1.0,lab,ha='left',va='top',transform=ax_pd[i].transAxes, \n",
    "                      fontproperties=font_props)\n",
    "    fig.savefig('../figures/mf_phase_diagrams_small.pdf')\n",
    "    #     fig.savefig('../figures/mf_phase_diagrams.svg')"
   ]
  },
  {
   "cell_type": "markdown",
   "metadata": {},
   "source": [
    "## Create the Combined Figure"
   ]
  },
  {
   "cell_type": "code",
   "execution_count": 32,
   "metadata": {},
   "outputs": [],
   "source": [
    "# plt.style.reload_library()\n",
    "# with plt.style.context(plot_style['sans']):\n",
    "    \n",
    "#     dgutils.fonts.set_custom_font(font_path)\n",
    "\n",
    "#     fig = plt.figure(figsize=(2*figsize[0],(4/5)*figsize[0]), constrained_layout=True)\n",
    "\n",
    "    \n",
    "#     pd0_fig,G_fig,pd_fig = fig.subfigures(nrows=1,ncols=3, width_ratios=[2,2,1])\n",
    "#     ax_pd0 = pd0_fig.subplots(1,1)\n",
    "#     ax_G = G_fig.subplots(1,1)\n",
    "#     ax_pd = pd_fig.subplots(nrows=2,ncols=1)\n",
    "    \n",
    "# #     labels=['vacuum','SF',r'$n=1/3$',r'$n=2/3$',r'$n=1$']\n",
    "# #     label_loc = [[0.25,-5],[0.45,2.5],[0.075,1.4],[0.075,4.2],[0.075,7.25]]\n",
    "# #     ax_pd0 = ab_pdmaker(ax_pd0,*data_pd['a=33'], 30,grid_scale=10,\n",
    "# #                    locate_system=[t[0]/(np.abs(V[0]) + np.abs(Vp[0])),1], \n",
    "# #                    labels=labels,label_loc=label_loc)\n",
    "#     labels=['vacuum','SF',r'$n=1/3$',r'$n=2/3$',r'$n=1$','SS']\n",
    "#     label_loc = [[0.2,-5],[0.45,2.5],[0.075,1.1],[0.075,4.3],[0.075,7.25],[0.18,2.7]]\n",
    "#     [t_current,V_current,Vp_current] = data_pd_revised30[-3:]\n",
    "#     tloc = t_current/(np.abs(V_current) + np.abs(Vp_current))\n",
    "#     muloc = 1\n",
    "#     ax_pd0 = ab_pdmaker(ax_pd0,*data_pd_revised30[:-3], 30,\n",
    "#                    locate_system=[tloc,muloc,'a'], \n",
    "#                    labels=labels,label_loc=label_loc)\n",
    "#     print(tloc,muloc)\n",
    "# #     ax_pd0 = ab_pdmaker(ax_pd0,*data_pd_revised30, 30,grid_scale=10,\n",
    "# #                    locate_system=[t[0]/(np.abs(V[0]) + np.abs(Vp[0])),1], \n",
    "# #                    labels=labels,label_loc=label_loc)\n",
    "    \n",
    "#     ax_G = decorate_graphene(ax_G)\n",
    "#     ax_G.patch.set_alpha(1.0)\n",
    "\n",
    "    \n",
    "# #     labels=['vacuum','SF',r'$n=1/3$',r'$n=2/3$',r'$n=1$']\n",
    "# #     label_loc = [[0.2,-4.0],[0.45,0],[0.075,-0.8],[0.075,0.8],[0.075,5]]\n",
    "# #     ax_pd[0] = ab_pdmaker(ax_pd[0],*data_pd['a=1'],1,labels=labels,label_loc=label_loc)\n",
    "# #     ax_pd[0].xaxis.set_visible(False)\n",
    "#     labels=['vacuum','SF',r'$n=1/3$',r'$n=2/3$',r'$n=1$',]\n",
    "#     label_loc = [[0.2,-4.0],[0.45,0],[0.075,-0.8],[0.075,0.8],[0.075,5],]\n",
    "#     [t_current,V_current,Vp_current] = data_pd_revised1[-3:]\n",
    "#     tloc = t_current/(np.abs(V_current) + np.abs(Vp_current))\n",
    "#     muloc = 1/(np.abs(V_current) + np.abs(Vp_current))\n",
    "#     print(tloc,muloc)\n",
    "#     ax_pd[0] = ab_pdmaker(ax_pd[0],*data_pd_revised1[:-3] ,1,\n",
    "#                     locate_system=[tloc,muloc,'c'],\n",
    "#                     labels=labels,label_loc=label_loc)\n",
    "# #     ax_pd[0] = ab_pdmaker(ax_pd[0],*data_pd_revised1,1,labels=labels,label_loc=label_loc)\n",
    "#     ax_pd[0].xaxis.set_visible(False)\n",
    "    \n",
    "#     labels=['vacuum','SF',r'$n=1$']\n",
    "#     label_loc = [[0.25,-4.5],[0.6,-3.05],[0.3,2.5]]\n",
    "#     [t_current,V_current,Vp_current] = data_pd['a=-1'][-3:]\n",
    "#     tloc = t_current/(np.abs(V_current) + np.abs(Vp_current))\n",
    "#     muloc = 1/(np.abs(V_current) + np.abs(Vp_current))\n",
    "#     print(tloc,muloc)\n",
    "#     ax_pd[1] = ab_pdmaker(ax_pd[1],*data_pd['a=-1'][:-3], -1,\n",
    "#                     locate_system=[tloc,muloc,'d'],\n",
    "#                     labels=labels,label_loc=label_loc)\n",
    "# #     ax_pd[1] = ab_pdmaker(ax_pd[1],*data_pd['a=-1'],-1,labels=labels,label_loc=label_loc)\n",
    "    \n",
    "#     # add panel labels\n",
    "#     font_props = dgutils.fonts.get_custom_font_props(bold_font_path)\n",
    "\n",
    "#     ax_pd0.text(-0.14,1.0,'a', ha='left',va='top', transform=ax_pd0.transAxes, fontproperties=font_props) \n",
    "#     #ax_pd0.text(1.05,1.0,'b', ha='left',va='top', transform=ax_pd0.transAxes, fontproperties=font_props) \n",
    "\n",
    "#     plt.figtext(0.3934,0.98,'b', ha='left',va='top',fontproperties=font_props,zorder=10)\n",
    "\n",
    "#     #ax_G.text(0,0.99,'b',ha='left',va='top',transform=ax_G.transAxes, fontproperties=font_props)\n",
    "#     for i,lab in enumerate(['c','d']):\n",
    "#         ax_pd[i].text(-0.35,1.0,lab,ha='left',va='top',transform=ax_pd[i].transAxes, fontproperties=font_props)\n",
    "    \n",
    "#     fig.savefig('../figures/mf_phase_diagrams.pdf')\n",
    "#     fig.savefig('../figures/mf_phase_diagrams.svg')"
   ]
  },
  {
   "cell_type": "code",
   "execution_count": 33,
   "metadata": {},
   "outputs": [],
   "source": [
    "# tinterp(0.183)/(np.abs(Vinterp(0.183))+np.abs(Vpinterp(0.183)))\n",
    "\n",
    "# tinterp(0.157)/(np.abs(Vinterp(0.157))+np.abs(Vpinterp(0.157)))\n"
   ]
  },
  {
   "cell_type": "markdown",
   "metadata": {},
   "source": [
    "# Physical PD"
   ]
  },
  {
   "cell_type": "code",
   "execution_count": 34,
   "metadata": {},
   "outputs": [],
   "source": [
    "# new set of strain for physical PD\n",
    "delta_PPD = np.arange(0,0.28,0.001)\n",
    "mu_PPD = np.arange(-20,40,0.2)\n",
    "nx_PPD = len(delta_PPD)\n",
    "ny_PPD = len(mu_PPD)\n",
    "t_PPD = tinterp(delta_PPD)\n",
    "V_PPD = Vinterp(delta_PPD)\n",
    "Vp_PPD = Vpinterp(delta_PPD)\n",
    "\n",
    "a_PPD = [-x/y if x>=0 else x/y for x, y in zip(V_PPD,Vp_PPD)]\n",
    "s_PPD = [1 if x>=0 else -1 for x in V_PPD]\n",
    "norm_PPD = [x-y if x>=0 else -x-y for x, y in zip(V_PPD,Vp_PPD)]\n",
    "tbar_PPD = [x/y for x, y in zip(t_PPD,norm_PPD)]"
   ]
  },
  {
   "cell_type": "code",
   "execution_count": 35,
   "metadata": {},
   "outputs": [],
   "source": [
    "# Without Supersolid\n",
    "mubar_PPD = np.zeros((ny_PPD,nx_PPD))\n",
    "data_PPD = np.zeros((ny_PPD,nx_PPD))\n",
    "for i in range(nx_PPD):\n",
    "    for j in range(ny_PPD):\n",
    "        mubar_PPD[j,i] = mu_PPD[j]/norm_PPD[i]\n",
    "\n",
    "for i in range(nx_PPD):\n",
    "    for j in range(ny_PPD):\n",
    "        data_PPD[j,i] = pref_state(tbar_PPD[i],mubar_PPD[j,i],s_PPD[i],a_PPD[i])"
   ]
  },
  {
   "cell_type": "code",
   "execution_count": 36,
   "metadata": {},
   "outputs": [],
   "source": [
    "idxarr = np.argwhere(data_PPD==4)\n",
    "sortedArr = idxarr[idxarr[:,1].argsort()]"
   ]
  },
  {
   "cell_type": "markdown",
   "metadata": {},
   "source": [
    "### The first lobe split"
   ]
  },
  {
   "cell_type": "code",
   "execution_count": 37,
   "metadata": {},
   "outputs": [
    {
     "name": "stdout",
     "output_type": "stream",
     "text": [
      "46\n"
     ]
    },
    {
     "data": {
      "text/plain": [
       "<matplotlib.collections.PathCollection at 0x7fbe540e2dc0>"
      ]
     },
     "execution_count": 37,
     "metadata": {},
     "output_type": "execute_result"
    },
    {
     "data": {
      "image/png": "[encoded data removed]",
      "text/plain": [
       "<Figure size 249.451x154.168 with 1 Axes>"
      ]
     },
     "metadata": {
      "image/png": {
       "height": 147,
       "width": 248
      },
      "needs_background": "light"
     },
     "output_type": "display_data"
    }
   ],
   "source": [
    "# argArr = np.argwhere((sortedArr[:,1]>500)&(sortedArr[:,1]<570))\n",
    "delta_number = 158\n",
    "argArr = np.argwhere((sortedArr[:,1]==delta_number))\n",
    "print(len(argArr))\n",
    "target = sortedArr[argArr[0][0]:argArr[-1][0]+1]\n",
    "targetsorted = target[target[:,0].argsort()]\n",
    "plt.scatter([delta_PPD[delta_number],]*len(targetsorted),targetsorted[:,0])"
   ]
  },
  {
   "cell_type": "code",
   "execution_count": 38,
   "metadata": {},
   "outputs": [
    {
     "data": {
      "text/plain": [
       "array([ 72,  73,  74,  75,  76,  77,  78,  79,  80,  81,  82,  83,  84,\n",
       "        85,  86,  87,  88,  89,  90,  91,  92,  93, 134, 135, 177, 178,\n",
       "       179, 180, 181, 182, 183, 184, 185, 186, 187, 188, 189, 190, 191,\n",
       "       192, 193, 194, 195, 196, 197, 198])"
      ]
     },
     "execution_count": 38,
     "metadata": {},
     "output_type": "execute_result"
    }
   ],
   "source": [
    "targetsorted[:,0]"
   ]
  },
  {
   "cell_type": "markdown",
   "metadata": {},
   "source": [
    "### The end of tow lobe"
   ]
  },
  {
   "cell_type": "code",
   "execution_count": 39,
   "metadata": {},
   "outputs": [
    {
     "name": "stdout",
     "output_type": "stream",
     "text": [
      "91\n"
     ]
    },
    {
     "data": {
      "text/plain": [
       "<matplotlib.collections.PathCollection at 0x7fbe54cb4f40>"
      ]
     },
     "execution_count": 39,
     "metadata": {},
     "output_type": "execute_result"
    },
    {
     "data": {
      "image/png": "[encoded data removed]",
      "text/plain": [
       "<Figure size 249.451x154.168 with 1 Axes>"
      ]
     },
     "metadata": {
      "image/png": {
       "height": 147,
       "width": 245
      },
      "needs_background": "light"
     },
     "output_type": "display_data"
    }
   ],
   "source": [
    "# argArr = np.argwhere((sortedArr[:,1]>500)&(sortedArr[:,1]<570))\n",
    "delta_number = 167\n",
    "argArr = np.argwhere((sortedArr[:,1]==delta_number))\n",
    "print(len(argArr))\n",
    "target = sortedArr[argArr[0][0]:argArr[-1][0]+1]\n",
    "targetsorted = target[target[:,0].argsort()]\n",
    "plt.scatter([delta_PPD[delta_number],]*len(targetsorted),targetsorted[:,0])"
   ]
  },
  {
   "cell_type": "code",
   "execution_count": 40,
   "metadata": {},
   "outputs": [
    {
     "name": "stdout",
     "output_type": "stream",
     "text": [
      "1.734141429638412 1.781583173197273 1.7851455893336599\n",
      "1.6830768332848658 1.7499249575492473 1.8408652864053237\n",
      "1.573753207588102 1.7167197711468238 1.8450899675170884\n",
      "1.512637354287116 1.6818543525770213 1.8487789885731463\n",
      "1.388912290040047 1.6452040188970776 1.9097543988050723\n",
      "1.2561710886820867 1.6066311829738391 1.9141654684679528\n",
      "1.1755383099273087 1.5659836335369446 1.979853995667061\n",
      "1.02461374363241 1.523092532426923 2.049227487264843\n",
      "0.7959735563939044 1.4777700732591312 2.1225961503837842\n",
      "0.48131695725890916 1.4298067327870836 2.4065847862946437\n"
     ]
    }
   ],
   "source": [
    "def find_symmetry_line(s, a):\n",
    "    return (3*s*a - 3)/(a + 1)\n",
    "\n",
    "bigpad = []\n",
    "mubar_lst = []\n",
    "for row in range(158,168):\n",
    "    delta_number = row\n",
    "    argArr = np.argwhere((sortedArr[:,1]==delta_number))\n",
    "    target = sortedArr[argArr[0][0]:argArr[-1][0]+1]\n",
    "    targetsorted = target[target[:,0].argsort()]\n",
    "    mu_init = targetsorted[:,0][0]\n",
    "    switch = 0\n",
    "    pad = []\n",
    "    for mu_idx in tuple(targetsorted[:,0][1:]):\n",
    "        if mu_idx != mu_init+1 and switch == False:\n",
    "            switch = not switch\n",
    "        elif mu_idx != mu_init+1 and switch:\n",
    "            switch = not switch\n",
    "        if switch:\n",
    "            pad.append(mu_idx)\n",
    "        mu_init = mu_idx\n",
    "    #print(pad)\n",
    "    bigpad.append(pad)\n",
    "    mubar_min, mubar_max = mubar_PPD[pad[0],row], mubar_PPD[pad[-1],row]\n",
    "    sym_line = find_symmetry_line(s_PPD[row], a_PPD[row])\n",
    "    print(mubar_min,sym_line,mubar_max)\n",
    "    mubar_pass = []\n",
    "    for mu_idx in tuple(pad):\n",
    "        if mubar_PPD[mu_idx,row]<sym_line:\n",
    "            mubar_pass.append(mubar_PPD[mu_idx,row])\n",
    "    mubar_lst.append(mubar_pass)"
   ]
  },
  {
   "cell_type": "code",
   "execution_count": 41,
   "metadata": {},
   "outputs": [
    {
     "name": "stdout",
     "output_type": "stream",
     "text": [
      "delta range: 0.158 0.167\n"
     ]
    }
   ],
   "source": [
    "print(\"delta range:\",delta_PPD[158], delta_PPD[167])\n",
    "# print(\"tbar:\",tbar[158:167+1])\n",
    "# print(\"V:\",Vnew[158:167+1])\n",
    "# print(\"Vp:\",Vpnew[158:167+1])\n",
    "# print(\"a:\",anew[158:167+1])\n",
    "# print(\"mu range:\",mu_PPD[134:135+1], mu_PPD[107:135+1])\n",
    "txtform = []\n",
    "txtform.append(delta_PPD[158:167+1])\n",
    "txtform.append(tbar_PPD[158:167+1])\n",
    "txtform.append(V_PPD[158:167+1])\n",
    "txtform.append(Vp_PPD[158:167+1])\n",
    "txtform.append(a_PPD[158:167+1])\n",
    "tosave = np.array(txtform).T\n",
    "#np.savetxt(\"../data/locators.out\", tosave, fmt=\"%12.12f\")"
   ]
  },
  {
   "cell_type": "code",
   "execution_count": 42,
   "metadata": {},
   "outputs": [],
   "source": [
    "bigpad = []\n",
    "mu_lst = []\n",
    "for row in range(158,168):\n",
    "    delta_number = row\n",
    "    argArr = np.argwhere((sortedArr[:,1]==delta_number))\n",
    "    target = sortedArr[argArr[0][0]:argArr[-1][0]+1]\n",
    "    targetsorted = target[target[:,0].argsort()]\n",
    "    mu_init = targetsorted[:,0][0]\n",
    "    switch = 0\n",
    "    pad = []\n",
    "    for mu_idx in tuple(targetsorted[:,0][1:]):\n",
    "        if mu_idx != mu_init+1 and switch == False:\n",
    "            switch = not switch\n",
    "        elif mu_idx != mu_init+1 and switch:\n",
    "            switch = not switch\n",
    "        if switch:\n",
    "            pad.append(mu_idx)\n",
    "        mu_init = mu_idx\n",
    "    #print(pad)\n",
    "    bigpad.append(pad)\n",
    "    mubar_min, mubar_max = mubar_PPD[pad[0],row], mubar_PPD[pad[-1],row]\n",
    "    sym_line = find_symmetry_line(s_PPD[row], a_PPD[row])\n",
    "    #print(mubar_min,sym_line,mubar_max)\n",
    "    mu_pass = []\n",
    "    for mu_idx in tuple(pad):\n",
    "        if mubar_PPD[mu_idx,row]<sym_line:\n",
    "            mu_pass.append(round(mubar_PPD[mu_idx,row]*(abs(V_PPD[row])+abs(abs(Vp_PPD[row]))),12))\n",
    "    mu_lst.append(mu_pass)\n",
    "#mu_lst = map(lambda x: f'{x}.12f', tuple(mu_lst))"
   ]
  },
  {
   "cell_type": "code",
   "execution_count": 43,
   "metadata": {},
   "outputs": [],
   "source": [
    "txtform = []\n",
    "txtform.append(delta_PPD[158:167+2])\n",
    "txtform.append(t_PPD[158:167+2])\n",
    "txtform.append(V_PPD[158:167+2])\n",
    "txtform.append(Vp_PPD[158:167+2])\n",
    "#txtform.append(a_PPD[158:167+1])\n",
    "tosave = np.array(txtform).T\n",
    "# np.savetxt(\"../data/locators2long.out\", tosave, fmt=\"%12.12f\")"
   ]
  },
  {
   "cell_type": "code",
   "execution_count": 44,
   "metadata": {},
   "outputs": [],
   "source": [
    "def get_cmap(phases):\n",
    "    colors = {'0.0':'#22b2aa55', '2.0':'#22b2aa99', \n",
    "              '3.0':'#22b2aa', '4.0':'coral', \n",
    "              '5.0':'#e6e2dc', '6.0':'#FEFF60'}\n",
    "    return mcolors.ListedColormap([colors[str(p)] for p in phases])"
   ]
  },
  {
   "cell_type": "code",
   "execution_count": 45,
   "metadata": {},
   "outputs": [
    {
     "data": {
      "image/png": "[encoded data removed]",
      "text/plain": [
       "<Figure size 249.451x154.168 with 1 Axes>"
      ]
     },
     "metadata": {
      "image/png": {
       "height": 148,
       "width": 244
      },
      "needs_background": "light"
     },
     "output_type": "display_data"
    }
   ],
   "source": [
    "plt.style.reload_library()\n",
    "with plt.style.context(plot_style['sans']):\n",
    "    fig,ax = plt.subplots(1,1,constrained_layout=True)\n",
    "    dgutils.fonts.set_custom_font(font_path)\n",
    "    cMap = get_cmap(np.unique(data_PPD))\n",
    "    p1 = ax.contourf(delta_PPD, mu_PPD, data_PPD, 5, vmin = 0, vmax = 5,cmap=cMap)\n",
    "\n",
    "    ax.set_xlabel(r'strain $\\delta$')\n",
    "    ax.set_ylabel(r'chemical potential  $\\mu$ (K)')\n",
    "    \n",
    "    ax.set_xlim(0,0.28)\n",
    "    ax.set_ylim(-20,40)\n",
    "    \n",
    "#     plt.scatter(locator[0], locator[1])\n",
    "    \n",
    "    path_eff = [path_effects.withSimplePatchShadow(offset=(0.05, -0.05), shadow_rgbFace='k', alpha=0.9)]\n",
    "    \n",
    "    labels=['vacuum','SF',r'n=1/3',r'n=2/3',r'n=1']\n",
    "    label_loc = [[0.13,-15],[0.17,1],[0.0425,15],[0.112,30],[0.22,15]]\n",
    "\n",
    "    for lab,loc in zip(labels,label_loc):\n",
    "        ax.text(*loc, lab, va='center',ha='left', path_effects=path_eff)"
   ]
  },
  {
   "cell_type": "markdown",
   "metadata": {},
   "source": [
    "### With supersolid"
   ]
  },
  {
   "cell_type": "code",
   "execution_count": 46,
   "metadata": {},
   "outputs": [],
   "source": [
    "#With supersolid data (energy, strain, mu)\n",
    "supersolid = np.genfromtxt('../data/SSPPD2.csv',delimiter=\",\")\n",
    "ss_strains = np.unique(supersolid[:,1])\n",
    "ss_mus = np.unique(supersolid[:,2])"
   ]
  },
  {
   "cell_type": "code",
   "execution_count": 47,
   "metadata": {},
   "outputs": [],
   "source": [
    "def ss_extractor(delta, mu, sampleset = supersolid):\n",
    "    for arr in sampleset:\n",
    "        el = list(arr)\n",
    "        if round(el[1],3) == round(delta,3) and round(el[2],3) == round(mu,3):\n",
    "            return el[0]\n",
    "    return 0"
   ]
  },
  {
   "cell_type": "code",
   "execution_count": 48,
   "metadata": {},
   "outputs": [],
   "source": [
    "mubar_PPD = np.zeros((ny_PPD,nx_PPD))\n",
    "data_PPD = np.zeros((ny_PPD,nx_PPD))\n",
    "energy_log = []\n",
    "for i in range(nx_PPD):\n",
    "    for j in range(ny_PPD):\n",
    "        mubar_PPD[j,i] = mu_PPD[j]/norm_PPD[i]\n",
    "\n",
    "for i, delta_r in enumerate(delta_PPD):\n",
    "    for j, mu_r in enumerate(mu_PPD):\n",
    "        ss_energy = ss_extractor(round(delta_r,3), round(mu_r,3))*16/(abs(V_PPD[i])+abs(Vp_PPD[i]))\n",
    "        if ss_energy:\n",
    "            data_PPD[j,i] = pref_state_SS_included(tbar_PPD[i],mubar_PPD[j,i],s_PPD[i],a_PPD[i], ss_energy)\n",
    "            e_log_w = lst(tbar_PPD[i],mubar_PPD[j,i],s_PPD[i],a_PPD[i])\n",
    "            e_log_w.insert(0,[delta_r,t_PPD[i],mu_r,V_PPD[i],Vp_PPD[i]])\n",
    "            e_log_w.append(ss_energy)\n",
    "            e_log_w.append([tbar_PPD[i],mubar_PPD[j,i],s_PPD[i],a_PPD[i]])\n",
    "            energy_log.append(e_log_w)\n",
    "        else:\n",
    "            data_PPD[j,i] = pref_state_SS_included(tbar_PPD[i],mubar_PPD[j,i],s_PPD[i],a_PPD[i])"
   ]
  },
  {
   "cell_type": "code",
   "execution_count": 49,
   "metadata": {},
   "outputs": [],
   "source": [
    "# totalcount=0\n",
    "# testcount=0\n",
    "# for i, delta_r in enumerate(delta_PPD):\n",
    "#     for j, mu_r in enumerate(mu_PPD):\n",
    "#         ss_energy = ss_extractor(round(delta_r,3), round(mu_r,3))\n",
    "#         if ss_energy:\n",
    "#             testcount += 1\n",
    "#         totalcount += 1\n",
    "# print(testcount)\n",
    "# print(totalcount)"
   ]
  },
  {
   "cell_type": "code",
   "execution_count": 50,
   "metadata": {},
   "outputs": [
    {
     "data": {
      "image/png": "[encoded data removed]",
      "text/plain": [
       "<Figure size 249.451x154.168 with 1 Axes>"
      ]
     },
     "metadata": {
      "image/png": {
       "height": 148,
       "width": 244
      },
      "needs_background": "light"
     },
     "output_type": "display_data"
    }
   ],
   "source": [
    "plt.style.reload_library()\n",
    "with plt.style.context(plot_style['sans']):\n",
    "    fig,ax = plt.subplots(1,1,constrained_layout=True)\n",
    "    dgutils.fonts.set_custom_font(font_path)\n",
    "    cMap = get_cmap(np.unique(data_PPD))\n",
    "    p1 = ax.contourf(delta_PPD, mu_PPD, data_PPD, 6, vmin = 0, vmax = 6,cmap=cMap)\n",
    "\n",
    "    ax.set_xlabel(r'strain $\\delta$')\n",
    "    ax.set_ylabel(r'chemical potential  $\\mu$ (K)')\n",
    "    \n",
    "    ax.set_xlim(0,0.28)\n",
    "    ax.set_ylim(-20,40)\n",
    "    \n",
    "#     plt.scatter(locator[0], locator[1])\n",
    "    \n",
    "    path_eff = [path_effects.withSimplePatchShadow(offset=(0.05, -0.05), shadow_rgbFace='k', alpha=0.9)]\n",
    "    \n",
    "    labels=['vacuum','SF',r'n=1/3',r'n=2/3',r'n=1']\n",
    "    label_loc = [[0.13,-15],[0.17,1],[0.0425,15],[0.112,30],[0.22,15]]\n",
    "\n",
    "    for lab,loc in zip(labels,label_loc):\n",
    "        ax.text(*loc, lab, va='center',ha='left', path_effects=path_eff)\n",
    "    \n",
    "#    fig.savefig('../figures/mu_delta_phase_diagram_withS.pdf')"
   ]
  },
  {
   "cell_type": "markdown",
   "metadata": {},
   "source": [
    "## Above figure support the fact that Supersolid phase is preferred between two lobes"
   ]
  },
  {
   "cell_type": "code",
   "execution_count": 51,
   "metadata": {},
   "outputs": [],
   "source": [
    "## Manually fill the area with higher resolution\n",
    "mubar = np.zeros((ny,nx))\n",
    "data = np.zeros((ny,nx))\n",
    "for i in range(nx):\n",
    "    for j in range(ny):\n",
    "        mubar[j,i] = mu_new[j]/norm[i]\n",
    "\n",
    "for i in range(nx):\n",
    "    for j in range(ny):\n",
    "        data[j,i] = pref_state(tbar[i],mubar[j,i],s_lst[i],a_lst[i])"
   ]
  },
  {
   "cell_type": "code",
   "execution_count": 52,
   "metadata": {},
   "outputs": [],
   "source": [
    "idxarr_high = np.argwhere(data==4)\n",
    "sortedArr_high = idxarr_high[idxarr_high[:,1].argsort()]"
   ]
  },
  {
   "cell_type": "code",
   "execution_count": 53,
   "metadata": {},
   "outputs": [
    {
     "name": "stdout",
     "output_type": "stream",
     "text": [
      "147\n",
      "0.15719999999999998\n"
     ]
    },
    {
     "data": {
      "image/png": "[encoded data removed]",
      "text/plain": [
       "<Figure size 249.451x154.168 with 1 Axes>"
      ]
     },
     "metadata": {
      "image/png": {
       "height": 147,
       "width": 245
      },
      "needs_background": "light"
     },
     "output_type": "display_data"
    }
   ],
   "source": [
    "delta_number = 524\n",
    "argArr = np.argwhere((sortedArr_high[:,1]==delta_number))\n",
    "print(len(argArr))\n",
    "target = sortedArr_high[argArr[0][0]:argArr[-1][0]+1]\n",
    "targetsorted = target[target[:,0].argsort()]\n",
    "plt.scatter([delta_new[delta_number],]*len(targetsorted),targetsorted[:,0])\n",
    "print(delta_new[delta_number])"
   ]
  },
  {
   "cell_type": "code",
   "execution_count": 54,
   "metadata": {},
   "outputs": [
    {
     "name": "stdout",
     "output_type": "stream",
     "text": [
      "284\n",
      "0.16679999999999998\n"
     ]
    },
    {
     "data": {
      "image/png": "[encoded data removed]",
      "text/plain": [
       "<Figure size 249.451x154.168 with 1 Axes>"
      ]
     },
     "metadata": {
      "image/png": {
       "height": 147,
       "width": 247
      },
      "needs_background": "light"
     },
     "output_type": "display_data"
    }
   ],
   "source": [
    "delta_number = 556\n",
    "argArr = np.argwhere((sortedArr_high[:,1]==delta_number))\n",
    "print(len(argArr))\n",
    "target = sortedArr_high[argArr[0][0]:argArr[-1][0]+1]\n",
    "targetsorted = target[target[:,0].argsort()]\n",
    "plt.scatter([delta_new[delta_number],]*len(targetsorted),targetsorted[:,0])\n",
    "print(delta_new[delta_number])"
   ]
  },
  {
   "cell_type": "code",
   "execution_count": 55,
   "metadata": {},
   "outputs": [],
   "source": [
    "bigpad2 = []\n",
    "mu_lst2 = []\n",
    "for row in range(524,557):\n",
    "    delta_number = row\n",
    "    argArr = np.argwhere((sortedArr_high[:,1]==delta_number))\n",
    "    target = sortedArr_high[argArr[0][0]:argArr[-1][0]+1]\n",
    "    targetsorted = target[target[:,0].argsort()]\n",
    "    mu_init = targetsorted[:,0][0]\n",
    "    switch = 0\n",
    "    pad = []\n",
    "    for mu_idx in tuple(targetsorted[:,0][1:]):\n",
    "        if mu_idx != mu_init+1 and switch == False:\n",
    "            switch = not switch\n",
    "        elif mu_idx != mu_init+1 and switch:\n",
    "            switch = not switch\n",
    "        if switch:\n",
    "            pad.append(mu_idx)\n",
    "        mu_init = mu_idx\n",
    "    #print(pad)\n",
    "    if len(pad) == 0:\n",
    "        print(\"Not valid row number!\")\n",
    "    bigpad2.append(pad)"
   ]
  },
  {
   "cell_type": "code",
   "execution_count": 56,
   "metadata": {},
   "outputs": [],
   "source": [
    "for row, i in enumerate(range(524,557)):\n",
    "    for j in bigpad2[row]:\n",
    "        if data[j,i] != 6.0:\n",
    "            data[j,i] = 6.0"
   ]
  },
  {
   "cell_type": "code",
   "execution_count": 58,
   "metadata": {},
   "outputs": [
    {
     "data": {
      "image/png": "[encoded data removed]",
      "text/plain": [
       "<Figure size 249.451x154.168 with 1 Axes>"
      ]
     },
     "metadata": {
      "image/png": {
       "height": 148,
       "width": 244
      },
      "needs_background": "light"
     },
     "output_type": "display_data"
    }
   ],
   "source": [
    "plt.style.reload_library()\n",
    "with plt.style.context(plot_style['sans']):\n",
    "    fig,ax = plt.subplots(1,1,constrained_layout=True)\n",
    "    dgutils.fonts.set_custom_font(font_path)\n",
    "    cMap = get_cmap(np.unique(data_PPD))\n",
    "    p1 = ax.contourf(delta_new, mu_new, data, 6, vmin = 0, vmax = 6,cmap=cMap)\n",
    "\n",
    "    ax.set_xlabel(r'strain $\\delta$')\n",
    "    ax.set_ylabel(r'chemical potential  $\\mu$ (K)')\n",
    "    \n",
    "    ax.set_xlim(0,0.28)\n",
    "    ax.set_ylim(-20,40)\n",
    "    \n",
    "#     plt.scatter(locator[0], locator[1])\n",
    "    \n",
    "    path_eff = [path_effects.withSimplePatchShadow(offset=(0.05, -0.05), shadow_rgbFace='k', alpha=0.9)]\n",
    "    \n",
    "    labels=['vacuum','SF',r'n=1/3',r'n=2/3',r'n=1', 'SS']\n",
    "    label_loc = [[0.13,-15],[0.175,1],[0.0425,15],[0.112,30],[0.22,15],[0.133,5]]\n",
    "\n",
    "    for lab,loc in zip(labels,label_loc):\n",
    "        ax.text(*loc, lab, va='center',ha='left', path_effects=path_eff)\n",
    "    \n",
    "#     plt.arrow(0.155,5,0.005,0, width=0.1, head_width=0.03)\n",
    "    ax.annotate(\"\", xy=(0.166, 5), xytext=(0.145, 5),\n",
    "            arrowprops=dict(arrowstyle=\"->\"))\n",
    "    \n",
    "    fig.savefig('../figures/mu_delta_phase_diagram_withS_high.pdf')\n",
    "    fig.savefig('../figures/mu_delta_phase_diagram_withS_high.svg')"
   ]
  }
 ],
 "metadata": {
  "kernelspec": {
   "display_name": "Python 3",
   "language": "python",
   "name": "python3"
  },
  "language_info": {
   "codemirror_mode": {
    "name": "ipython",
    "version": 3
   },
   "file_extension": ".py",
   "mimetype": "text/x-python",
   "name": "python",
   "nbconvert_exporter": "python",
   "pygments_lexer": "ipython3",
   "version": "3.8.5"
  }
 },
 "nbformat": 4,
 "nbformat_minor": 4
}
