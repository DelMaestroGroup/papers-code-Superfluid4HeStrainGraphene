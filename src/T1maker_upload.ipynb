{
 "cells": [
  {
   "cell_type": "markdown",
   "metadata": {},
   "source": [
    "# Generate submittion file for 1K\n",
    "## You can set size of box (nx, ny), strain, chemical potential range"
   ]
  },
  {
   "cell_type": "code",
   "execution_count": 1,
   "metadata": {},
   "outputs": [],
   "source": [
    "# from graphenetools import gt\n",
    "import math\n",
    "import numpy as np\n",
    "from graphenetools import gt"
   ]
  },
  {
   "cell_type": "markdown",
   "metadata": {},
   "source": [
    "### sample is template of commands. You can edit options for simulation here"
   ]
  },
  {
   "cell_type": "code",
   "execution_count": 2,
   "metadata": {},
   "outputs": [],
   "source": [
    "sample = '-T T? -t 0.003130 -M 8 -I szalewicz -X graphenelut3d '\\\n",
    "    '-E 200000 -S 1200 -l 8 --relax --bin_size=250 --Lz 10.0 '\\\n",
    "    '--strain 0.00000 '\\\n",
    "    '-N N? --Lx Lx? --Ly Ly? '\\\n",
    "    '--graphenelut3d_file_prefix=../../pimclocal/LUT/graphene_isotropic_0.??_10.0_101_101_1001_ '\\\n",
    "    '--estimator=\"number particles\" --estimator=\"planar density average rho\"'"
   ]
  },
  {
   "cell_type": "code",
   "execution_count": 2,
   "metadata": {},
   "outputs": [],
   "source": [
    "def T1maker(nx,ny,strainrun,murange,sample, date='Apr01', fill=0.5, step=1.0):\n",
    "    #cell maker\n",
    "    strset = \"\"\n",
    "    for ncellx, ncelly in zip((nx, ),(ny, )):\n",
    "        total_n = 1 * ncellx * ncelly\n",
    "        ratio = [fill,]*len(strainrun)\n",
    "        for m,i in enumerate(strainrun):\n",
    "            iso_strain = 1+0.01*i\n",
    "            a = 1.42*iso_strain\n",
    "\n",
    "            lx = a*math.sqrt(3)*1 * ncellx\n",
    "            ly = a*1.5 * ncelly\n",
    "\n",
    "            for T in (1.0,):\n",
    "                if i < 10:\n",
    "                    strset += \"0\"+str(i)+\" :  \"\n",
    "                else:\n",
    "                    strset += str(i)+\" :  \"\n",
    "                strset += \"-T \" + f'{T:.3f}' + \" -N \" + f\"{int(total_n*ratio[m])}\" + \" --Lx \" + str(lx) + \" --Ly \" + str(ly) + \"\\n\"\n",
    "        print('*'*7+'total n =',str(total_n)+'*'*7)\n",
    "    strset = strset[:-1]\n",
    "    print(strset)\n",
    "    \n",
    "    #line maker\n",
    "    linelst = []\n",
    "    linelst = strset.split(\"\\n\")\n",
    "    print('lines:',len(linelst))\n",
    "    mumin = [-129.4, -126.8, -124.2, -122.6, -121. , -117.7, -114.3, -112. ,\n",
    "       -109.7, -109. , -108.4, -106.8, -105.2, -102.7, -100.2,  -98.3,\n",
    "        -96.3,  -96.2,  -96.2,  -95.2,  -94.2,  -92.9,  -91.5,  -90.3,\n",
    "        -89.2,  -88. ,  -86.8,  -84.8,  -82.8,  -82.4,  -82.1]\n",
    "    intmumin = [int(n) for n in mumin]\n",
    "\n",
    "    line_topush = []\n",
    "    mulst = []\n",
    "    \n",
    "    ###  generate mu samples\n",
    "    for m,i in enumerate(strainrun):\n",
    "        if murange[0] == 'vacuum' or murange[0] <= intmumin[i]:\n",
    "            lowermu = intmumin[i]\n",
    "        else:\n",
    "            lowermu = murange[0]\n",
    "        uppermu = murange[1]\n",
    "        if lowermu >= uppermu:\n",
    "            continue\n",
    "        musamplelist = np.arange(lowermu, uppermu, step)\n",
    "        line_topush += [linelst[m],]*len(musamplelist) #copy lines for # of mu\n",
    "        mulst += list(musamplelist)\n",
    "        print(musamplelist[-1],end=' ')\n",
    "    print('')\n",
    "    mu_topush = []\n",
    "    for num in mulst:\n",
    "        mkline = \" -u\"\n",
    "        for i in (0,):\n",
    "            push = \" \"+str(float(num+i))\n",
    "            mkline += push\n",
    "        mu_topush.append(mkline)\n",
    "    print('# lines',len(line_topush))\n",
    "    print('# mu',len(mu_topush))\n",
    "    \n",
    "    #command maker\n",
    "    commlst = []\n",
    "    for m, l in enumerate(line_topush):\n",
    "        locT = l.find(\"-T\")\n",
    "        locN = l.find(\"-N\")\n",
    "        locLx = l.find(\"--Lx\")\n",
    "        locLy = l.find(\"--Ly\")\n",
    "        locst = l.find(\":\")\n",
    "        comm = str(sample)\n",
    "        comm = comm.replace(\"T?\",str(l[locT+3:locN-1]))\n",
    "        comm = comm.replace(\"N?\",str(l[locN+3:locLx-1]))\n",
    "        comm = comm.replace(\"Lx?\",str(l[locLx+5:locLy-1]))\n",
    "        comm = comm.replace(\"Ly?\",str(l[locLy+5:]))\n",
    "        comm = comm.replace(\"??\",str(l[:locst-1]))\n",
    "        comm += mu_topush[m]\n",
    "        commlst.append(comm)\n",
    "\n",
    "    print('# command',len(commlst))\n",
    "    print(commlst[0])\n",
    "    \n",
    "    #command writter\n",
    "    filename = f\"../data/pimc_T1_{date}_s{strainrun[0]}-{strainrun[-1]}_{int(musamplelist[-1])}.sh\"\n",
    "    commgen = open(filename, \"w\")\n",
    "    ct = 0\n",
    "    commgen.write(\"\"\"#!/bin/bash\n",
    "\n",
    "#SBATCH --partition=bluemoon\n",
    "#SBATCH --nodes=1\n",
    "#SBATCH --cpus-per-task=1\n",
    "#SBATCH --ntasks=1\n",
    "#SBATCH --mem=1GB\n",
    "#SBATCH --job-name=pimc\n",
    "#SBATCH --output=out/pimc-%A-%a.log\n",
    "#SBATCH --time=30:00:00\n",
    "\n",
    "# change to the directory where you submitted this script\n",
    "cd ${SLURM_SUBMIT_DIR}\n",
    "\n",
    "# Check if the out directory exists, if not, create it\n",
    "if [ ! -d \"./out\" ]; then\n",
    "  mkdir out\n",
    "fi\n",
    "\n",
    "# Executable section: echoing some Slurm data\n",
    "echo \"Starting sbatch script `basename $0` at:`date`\"\n",
    "echo \"Running host:    ${SLURMD_NODENAME}\"\n",
    "echo \"Assigned nodes:  ${SLURM_JOB_NODELIST}\"\n",
    "echo \"Job ID:          ${SLURM_JOBID}\"\n",
    "\n",
    "# The job array\n",
    "case ${SLURM_ARRAY_TASK_ID} in\n",
    "\"\"\")\n",
    "    for line in commlst:\n",
    "\n",
    "        commgen.write(str(ct)+\")\\n\")\n",
    "        commgen.write(\"sleep \"+str(ct*2)+\"\\n\")\n",
    "        commgen.write(\"./pimc.e \"+ \"-p \"+ str(ct+1)+\" \" + line + \"\\n\")\n",
    "        commgen.write(\";;\"+\"\\n\")\n",
    "        ct += 1\n",
    "    #                     print(line[4:])\n",
    "    commgen.write(\"\"\"esac\n",
    "echo \\\"Finished run at: `date`\\\"\"\"\")\n",
    "    commgen.close()\n",
    "    print('file ready:', filename)"
   ]
  },
  {
   "cell_type": "markdown",
   "metadata": {},
   "source": [
    "### 'ny' must be even number (boundary condition). \n",
    "### strain (third argument) should be iterable (tuple), mu rage is two element tuple with (min, max). You can use 'vacuum' for lower boundary. fill (optional) is initial number of particle filling portion (0 to 1)"
   ]
  },
  {
   "cell_type": "code",
   "execution_count": 72,
   "metadata": {},
   "outputs": [
    {
     "name": "stdout",
     "output_type": "stream",
     "text": [
      "*******total n = 48*******\n",
      "00 :  -T 1.000 -N 16 --Lx 14.757072880486835 --Ly 17.04\n",
      "01 :  -T 1.000 -N 16 --Lx 14.904643609291702 --Ly 17.2104\n",
      "02 :  -T 1.000 -N 16 --Lx 15.052214338096569 --Ly 17.3808\n",
      "03 :  -T 1.000 -N 16 --Lx 15.199785066901438 --Ly 17.551199999999998\n",
      "04 :  -T 1.000 -N 16 --Lx 15.347355795706306 --Ly 17.7216\n",
      "05 :  -T 1.000 -N 16 --Lx 15.494926524511174 --Ly 17.892\n",
      "06 :  -T 1.000 -N 16 --Lx 15.642497253316044 --Ly 18.0624\n",
      "07 :  -T 1.000 -N 16 --Lx 15.790067982120913 --Ly 18.2328\n",
      "08 :  -T 1.000 -N 16 --Lx 15.93763871092578 --Ly 18.403200000000002\n",
      "09 :  -T 1.000 -N 16 --Lx 16.085209439730647 --Ly 18.5736\n",
      "10 :  -T 1.000 -N 16 --Lx 16.23278016853552 --Ly 18.744\n",
      "lines: 11\n",
      "-108.0 -108.0 -108.0 -108.0 -108.0 -108.0 -108.0 -108.0 -108.0 -108.0 -108.0 \n",
      "# lines 114\n",
      "# mu 114\n",
      "# command 114\n",
      "-T 1.000 -t 0.003130 -M 8 -I szalewicz -X graphenelut3d -E 200000 -S 1200 -l 8 --relax --bin_size=250 --Lz 10.0 --strain 0.00000 -N 16 --Lx 14.757072880486835 --Ly 17.04 --graphenelut3d_file_prefix=../../pimclocal/LUT/graphene_isotropic_0.00_10.0_101_101_1001_ --estimator=\"number particles\" --estimator=\"planar density average rho\" -u -129.0\n",
      "file ready: /home/sang/UVM/He4T1set/pimc_T1_Apr01_s0-10_-108.sh\n"
     ]
    }
   ],
   "source": [
    "T1maker(6,8,(0,1,2,3,4,5,6,7,8,9,10,),('vacuum',-108+0.1),sample, fill = 1/3)"
   ]
  },
  {
   "cell_type": "code",
   "execution_count": 5,
   "metadata": {},
   "outputs": [
    {
     "name": "stdout",
     "output_type": "stream",
     "text": [
      "*******total n = 48*******\n",
      "00 :  -T 1.000 -N 16 --Lx 14.757072880486835 --Ly 17.04\n",
      "01 :  -T 1.000 -N 16 --Lx 14.904643609291702 --Ly 17.2104\n",
      "02 :  -T 1.000 -N 16 --Lx 15.052214338096569 --Ly 17.3808\n",
      "03 :  -T 1.000 -N 16 --Lx 15.199785066901438 --Ly 17.551199999999998\n",
      "04 :  -T 1.000 -N 16 --Lx 15.347355795706306 --Ly 17.7216\n",
      "05 :  -T 1.000 -N 16 --Lx 15.494926524511174 --Ly 17.892\n",
      "06 :  -T 1.000 -N 16 --Lx 15.642497253316044 --Ly 18.0624\n",
      "07 :  -T 1.000 -N 16 --Lx 15.790067982120913 --Ly 18.2328\n",
      "08 :  -T 1.000 -N 16 --Lx 15.93763871092578 --Ly 18.403200000000002\n",
      "09 :  -T 1.000 -N 16 --Lx 16.085209439730647 --Ly 18.5736\n",
      "10 :  -T 1.000 -N 16 --Lx 16.23278016853552 --Ly 18.744\n",
      "lines: 11\n",
      "-101.0 -101.0 -101.0 -101.0 -101.0 -101.0 -101.0 -101.0 -101.0 -101.0 -101.0 \n",
      "# lines 77\n",
      "# mu 77\n",
      "# command 77\n",
      "-T 1.000 -t 0.003130 -M 8 -I szalewicz -X graphenelut3d -E 200000 -S 1200 -l 8 --relax --bin_size=250 --Lz 10.0 --strain 0.00000 -N 16 --Lx 14.757072880486835 --Ly 17.04 --graphenelut3d_file_prefix=../../pimclocal/LUT/graphene_isotropic_0.00_10.0_101_101_1001_ --estimator=\"number particles\" --estimator=\"planar density average rho\" -u -107.0\n",
      "file ready: /home/sang/UVM/He4T1set/pimc_T1_Apr01_s0-10_-101.sh\n"
     ]
    }
   ],
   "source": [
    "T1maker(6,8,(0,1,2,3,4,5,6,7,8,9,10,),(-107,-101+0.1),sample,date='Apr03', fill = 1/3)"
   ]
  },
  {
   "cell_type": "code",
   "execution_count": 68,
   "metadata": {},
   "outputs": [
    {
     "name": "stdout",
     "output_type": "stream",
     "text": [
      "*******total n = 64*******\n",
      "00 :  -T 1.000 -N 28 --Lx 19.676097173982445 --Ly 17.04\n",
      "01 :  -T 1.000 -N 28 --Lx 19.87285814572227 --Ly 17.2104\n",
      "02 :  -T 1.000 -N 28 --Lx 20.069619117462093 --Ly 17.3808\n",
      "03 :  -T 1.000 -N 28 --Lx 20.266380089201917 --Ly 17.551199999999998\n",
      "04 :  -T 1.000 -N 28 --Lx 20.46314106094174 --Ly 17.7216\n",
      "05 :  -T 1.000 -N 28 --Lx 20.659902032681565 --Ly 17.892\n",
      "lines: 6\n",
      "-90.0 -90.0 -90.0 -90.0 -90.0 -90.0 \n",
      "# lines 138\n",
      "# mu 138\n",
      "# command 138\n",
      "-T 1.000 -t 0.003130 -M 8 -I szalewicz -X graphenelut3d -E 200000 -S 1200 -l 8 --relax --bin_size=250 --Lz 10.0 --strain 0.00000 -N 28 --Lx 19.676097173982445 --Ly 17.04 --graphenelut3d_file_prefix=../../pimclocal/LUT/graphene_isotropic_0.00_10.0_101_101_1001_ --estimator=\"number particles\" --estimator=\"planar density average rho\" -u -112.0\n",
      "file ready: /home/sang/UVM/He4T1set/pimc_T1_Apr01_s0-5_-90.sh\n"
     ]
    }
   ],
   "source": [
    "T1maker(8,8,(0,1,2,3,4,5,),(-112,-90+0.1),sample, fill = 7/16)"
   ]
  },
  {
   "cell_type": "code",
   "execution_count": 69,
   "metadata": {},
   "outputs": [
    {
     "name": "stdout",
     "output_type": "stream",
     "text": [
      "*******total n = 64*******\n",
      "06 :  -T 1.000 -N 28 --Lx 20.856663004421392 --Ly 18.0624\n",
      "07 :  -T 1.000 -N 28 --Lx 21.053423976161216 --Ly 18.2328\n",
      "08 :  -T 1.000 -N 28 --Lx 21.25018494790104 --Ly 18.403200000000002\n",
      "09 :  -T 1.000 -N 28 --Lx 21.446945919640864 --Ly 18.5736\n",
      "10 :  -T 1.000 -N 28 --Lx 21.643706891380692 --Ly 18.744\n",
      "lines: 5\n",
      "-90.0 -90.0 -90.0 -90.0 -90.0 \n",
      "# lines 90\n",
      "# mu 90\n",
      "# command 90\n",
      "-T 1.000 -t 0.003130 -M 8 -I szalewicz -X graphenelut3d -E 200000 -S 1200 -l 8 --relax --bin_size=250 --Lz 10.0 --strain 0.00000 -N 28 --Lx 20.856663004421392 --Ly 18.0624 --graphenelut3d_file_prefix=../../pimclocal/LUT/graphene_isotropic_0.06_10.0_101_101_1001_ --estimator=\"number particles\" --estimator=\"planar density average rho\" -u -107.0\n",
      "file ready: /home/sang/UVM/He4T1set/pimc_T1_Apr01_s6-10_-90.sh\n"
     ]
    }
   ],
   "source": [
    "T1maker(8,8,(6,7,8,9,10,),(-107,-90+0.1),sample, fill = 7/16)"
   ]
  },
  {
   "cell_type": "code",
   "execution_count": 9,
   "metadata": {},
   "outputs": [
    {
     "name": "stdout",
     "output_type": "stream",
     "text": [
      "*******total n = 56*******\n",
      "00 :  -T 1.000 -N 24 --Lx 17.21658502723464 --Ly 17.04\n",
      "01 :  -T 1.000 -N 24 --Lx 17.388750877506986 --Ly 17.2104\n",
      "02 :  -T 1.000 -N 24 --Lx 17.560916727779333 --Ly 17.3808\n",
      "03 :  -T 1.000 -N 24 --Lx 17.73308257805168 --Ly 17.551199999999998\n",
      "04 :  -T 1.000 -N 24 --Lx 17.905248428324022 --Ly 17.7216\n",
      "05 :  -T 1.000 -N 24 --Lx 18.07741427859637 --Ly 17.892\n",
      "lines: 6\n",
      "-88.0 -88.0 -88.0 -88.0 -88.0 -88.0 \n",
      "# lines 150\n",
      "# mu 150\n",
      "# command 150\n",
      "-T 1.000 -t 0.003130 -M 8 -I szalewicz -X graphenelut3d -E 200000 -S 1200 -l 8 --relax --bin_size=250 --Lz 10.0 --strain 0.00000 -N 24 --Lx 17.21658502723464 --Ly 17.04 --graphenelut3d_file_prefix=../../pimclocal/LUT/graphene_isotropic_0.00_10.0_101_101_1001_ --estimator=\"number particles\" --estimator=\"planar density average rho\" -u -112.0\n",
      "file ready: /home/sang/UVM/He4T1set/pimc_T1_Apr03_1_s0-5_-88.sh\n"
     ]
    }
   ],
   "source": [
    "T1maker(7,8,(0,1,2,3,4,5,),(-112,-88+0.1),sample,date='Apr03_1', fill = 7/16)"
   ]
  },
  {
   "cell_type": "code",
   "execution_count": 10,
   "metadata": {},
   "outputs": [
    {
     "name": "stdout",
     "output_type": "stream",
     "text": [
      "*******total n = 80*******\n",
      "00 :  -T 1.000 -N 35 --Lx 19.676097173982445 --Ly 21.299999999999997\n",
      "01 :  -T 1.000 -N 35 --Lx 19.87285814572227 --Ly 21.512999999999998\n",
      "02 :  -T 1.000 -N 35 --Lx 20.069619117462093 --Ly 21.726\n",
      "03 :  -T 1.000 -N 35 --Lx 20.266380089201917 --Ly 21.938999999999997\n",
      "04 :  -T 1.000 -N 35 --Lx 20.46314106094174 --Ly 22.151999999999997\n",
      "05 :  -T 1.000 -N 35 --Lx 20.659902032681565 --Ly 22.365\n",
      "lines: 6\n",
      "-88.0 -88.0 -88.0 -88.0 -88.0 -88.0 \n",
      "# lines 150\n",
      "# mu 150\n",
      "# command 150\n",
      "-T 1.000 -t 0.003130 -M 8 -I szalewicz -X graphenelut3d -E 200000 -S 1200 -l 8 --relax --bin_size=250 --Lz 10.0 --strain 0.00000 -N 35 --Lx 19.676097173982445 --Ly 21.299999999999997 --graphenelut3d_file_prefix=../../pimclocal/LUT/graphene_isotropic_0.00_10.0_101_101_1001_ --estimator=\"number particles\" --estimator=\"planar density average rho\" -u -112.0\n",
      "file ready: /home/sang/UVM/He4T1set/pimc_T1_Apr03_2_s0-5_-88.sh\n"
     ]
    }
   ],
   "source": [
    "T1maker(8,10,(0,1,2,3,4,5,),(-112,-88+0.1),sample,date='Apr03_2', fill = 7/16)"
   ]
  },
  {
   "cell_type": "code",
   "execution_count": 14,
   "metadata": {},
   "outputs": [
    {
     "name": "stdout",
     "output_type": "stream",
     "text": [
      "*******total n = 90*******\n",
      "00 :  -T 1.000 -N 39 --Lx 22.13560932073025 --Ly 21.299999999999997\n",
      "01 :  -T 1.000 -N 39 --Lx 22.35696541393755 --Ly 21.512999999999998\n",
      "02 :  -T 1.000 -N 39 --Lx 22.578321507144853 --Ly 21.726\n",
      "03 :  -T 1.000 -N 39 --Lx 22.799677600352155 --Ly 21.938999999999997\n",
      "04 :  -T 1.000 -N 39 --Lx 23.02103369355946 --Ly 22.151999999999997\n",
      "05 :  -T 1.000 -N 39 --Lx 23.24238978676676 --Ly 22.365\n",
      "lines: 6\n",
      "-30.0 -30.0 -30.0 -30.0 -30.0 -30.0 \n",
      "# lines 120\n",
      "# mu 120\n",
      "# command 120\n",
      "-T 1.000 -t 0.003130 -M 8 -I szalewicz -X graphenelut3d -E 200000 -S 1200 -l 8 --relax --bin_size=250 --Lz 10.0 --strain 0.00000 -N 39 --Lx 22.13560932073025 --Ly 21.299999999999997 --graphenelut3d_file_prefix=../../pimclocal/LUT/graphene_isotropic_0.00_10.0_101_101_1001_ --estimator=\"number particles\" --estimator=\"planar density average rho\" -u -87.0\n",
      "file ready: /home/sang/UVM/He4T1set/pimc_T1_Apr03_3_s0-5_-30.sh\n"
     ]
    }
   ],
   "source": [
    "T1maker(9,10,(0,1,2,3,4,5,),(-87,-30+0.1),sample,date='Apr03_3', fill = 7/16, step=3.0)"
   ]
  },
  {
   "cell_type": "code",
   "execution_count": 3,
   "metadata": {},
   "outputs": [],
   "source": [
    "sample = '-T T? -t 0.003130 -M 8 -I szalewicz -X graphenelut3d '\\\n",
    "    '-E 300000 -S 2500 -l 8 --relax --bin_size=250 --Lz 10.0 '\\\n",
    "    '--strain 0.00000 '\\\n",
    "    '-N N? --Lx Lx? --Ly Ly? '\\\n",
    "    '--graphenelut3d_file_prefix=../../pimclocal/LUT/graphene_isotropic_0.??_10.0_101_101_1001_ '\\\n",
    "    '--estimator=\"number particles\" --estimator=\"planar density average rho\"'"
   ]
  },
  {
   "cell_type": "code",
   "execution_count": 19,
   "metadata": {},
   "outputs": [
    {
     "name": "stdout",
     "output_type": "stream",
     "text": [
      "*******total n = 64*******\n",
      "00 :  -T 1.000 -N 28 --Lx 19.676097173982445 --Ly 17.04\n",
      "01 :  -T 1.000 -N 28 --Lx 19.87285814572227 --Ly 17.2104\n",
      "02 :  -T 1.000 -N 28 --Lx 20.069619117462093 --Ly 17.3808\n",
      "03 :  -T 1.000 -N 28 --Lx 20.266380089201917 --Ly 17.551199999999998\n",
      "04 :  -T 1.000 -N 28 --Lx 20.46314106094174 --Ly 17.7216\n",
      "lines: 5\n",
      "-85.0 -85.0 -85.0 -85.0 -85.0 \n",
      "# lines 140\n",
      "# mu 140\n",
      "# command 140\n",
      "-T 1.000 -t 0.003130 -M 8 -I szalewicz -X graphenelut3d -E 300000 -S 2500 -l 8 --relax --bin_size=250 --Lz 10.0 --strain 0.00000 -N 28 --Lx 19.676097173982445 --Ly 17.04 --graphenelut3d_file_prefix=../../pimclocal/LUT/graphene_isotropic_0.00_10.0_101_101_1001_ --estimator=\"number particles\" --estimator=\"planar density average rho\" -u -112.0\n",
      "file ready: /home/sang/UVM/He4T1set/pimc_T1_Apr05_s0-4_-85.sh\n"
     ]
    }
   ],
   "source": [
    "T1maker(8,8,(0,1,2,3,4,),(-112,-85+0.1),sample,date='Apr05', fill = 7/16, step=1.0)"
   ]
  },
  {
   "cell_type": "code",
   "execution_count": 21,
   "metadata": {},
   "outputs": [
    {
     "name": "stdout",
     "output_type": "stream",
     "text": [
      "*******total n = 64*******\n",
      "05 :  -T 1.000 -N 28 --Lx 20.659902032681565 --Ly 17.892\n",
      "06 :  -T 1.000 -N 28 --Lx 20.856663004421392 --Ly 18.0624\n",
      "07 :  -T 1.000 -N 28 --Lx 21.053423976161216 --Ly 18.2328\n",
      "08 :  -T 1.000 -N 28 --Lx 21.25018494790104 --Ly 18.403200000000002\n",
      "09 :  -T 1.000 -N 28 --Lx 21.446945919640864 --Ly 18.5736\n",
      "10 :  -T 1.000 -N 28 --Lx 21.643706891380692 --Ly 18.744\n",
      "lines: 6\n",
      "-93.0 -93.0 -93.0 -93.0 -93.0 -93.0 \n",
      "# lines 108\n",
      "# mu 108\n",
      "# command 108\n",
      "-T 1.000 -t 0.003130 -M 8 -I szalewicz -X graphenelut3d -E 300000 -S 2500 -l 8 --relax --bin_size=250 --Lz 10.0 --strain 0.00000 -N 28 --Lx 20.659902032681565 --Ly 17.892 --graphenelut3d_file_prefix=../../pimclocal/LUT/graphene_isotropic_0.05_10.0_101_101_1001_ --estimator=\"number particles\" --estimator=\"planar density average rho\" -u -110.0\n",
      "file ready: /home/sang/UVM/He4T1set/pimc_T1_Apr05_s5-10_-93.sh\n"
     ]
    }
   ],
   "source": [
    "T1maker(8,8,(5,6,7,8,9,10,),(-110,-93+0.1),sample,date='Apr05', fill = 7/16, step=1.0)"
   ]
  },
  {
   "cell_type": "code",
   "execution_count": 23,
   "metadata": {},
   "outputs": [
    {
     "name": "stdout",
     "output_type": "stream",
     "text": [
      "*******total n = 48*******\n",
      "05 :  -T 1.000 -N 21 --Lx 15.494926524511174 --Ly 17.892\n",
      "06 :  -T 1.000 -N 21 --Lx 15.642497253316044 --Ly 18.0624\n",
      "07 :  -T 1.000 -N 21 --Lx 15.790067982120913 --Ly 18.2328\n",
      "08 :  -T 1.000 -N 21 --Lx 15.93763871092578 --Ly 18.403200000000002\n",
      "09 :  -T 1.000 -N 21 --Lx 16.085209439730647 --Ly 18.5736\n",
      "10 :  -T 1.000 -N 21 --Lx 16.23278016853552 --Ly 18.744\n",
      "lines: 6\n",
      "-85.0 -85.0 -85.0 -85.0 -85.0 -85.0 \n",
      "# lines 60\n",
      "# mu 60\n",
      "# command 60\n",
      "-T 1.000 -t 0.003130 -M 8 -I szalewicz -X graphenelut3d -E 300000 -S 2500 -l 8 --relax --bin_size=250 --Lz 10.0 --strain 0.00000 -N 21 --Lx 15.494926524511174 --Ly 17.892 --graphenelut3d_file_prefix=../../pimclocal/LUT/graphene_isotropic_0.05_10.0_101_101_1001_ --estimator=\"number particles\" --estimator=\"planar density average rho\" -u -94.0\n",
      "file ready: /home/sang/UVM/He4T1set/pimc_T1_Apr05_s5-10_-85.sh\n"
     ]
    }
   ],
   "source": [
    "T1maker(6,8,(5,6,7,8,9,10,),(-94,-85+0.1),sample,date='Apr05', fill = 7/16, step=1.0)"
   ]
  },
  {
   "cell_type": "code",
   "execution_count": 6,
   "metadata": {},
   "outputs": [
    {
     "name": "stdout",
     "output_type": "stream",
     "text": [
      "*******total n = 48*******\n",
      "26 :  -T 1.000 -N 48 --Lx 18.593911829413408 --Ly 21.470399999999998\n",
      "27 :  -T 1.000 -N 48 --Lx 18.741482558218276 --Ly 21.6408\n",
      "28 :  -T 1.000 -N 48 --Lx 18.889053287023145 --Ly 21.8112\n",
      "29 :  -T 1.000 -N 48 --Lx 19.036624015828014 --Ly 21.9816\n",
      "30 :  -T 1.000 -N 48 --Lx 19.184194744632883 --Ly 22.151999999999997\n",
      "lines: 5\n",
      "-41.0 -41.0 -41.0 -41.0 -41.0 \n",
      "# lines 85\n",
      "# mu 85\n",
      "# command 85\n",
      "-T 1.000 -t 0.003130 -M 8 -I szalewicz -X graphenelut3d -E 200000 -S 1200 -l 8 --relax --bin_size=250 --Lz 10.0 --strain 0.00000 -N 48 --Lx 18.593911829413408 --Ly 21.470399999999998 --graphenelut3d_file_prefix=../../pimclocal/LUT/graphene_isotropic_0.26_10.0_101_101_1001_ --estimator=\"number particles\" --estimator=\"planar density average rho\" -u -65.0\n",
      "file ready: /home/sang/UVM/He4T1set/pimc_T1_Apr07_s26-30_-41.sh\n"
     ]
    }
   ],
   "source": [
    "T1maker(6,8,(26,27,28,29,30),(-65,-40+0.1), sample, date='Apr07', fill = 1, step=1.5)"
   ]
  },
  {
   "cell_type": "code",
   "execution_count": null,
   "metadata": {},
   "outputs": [],
   "source": []
  },
  {
   "cell_type": "code",
   "execution_count": 6,
   "metadata": {},
   "outputs": [
    {
     "name": "stdout",
     "output_type": "stream",
     "text": [
      "*******total n = 90*******\n",
      "00 :  -T 1.000 -N 45 --Lx 22.13560932073025 --Ly 21.299999999999997\n",
      "01 :  -T 1.000 -N 45 --Lx 22.35696541393755 --Ly 21.512999999999998\n",
      "02 :  -T 1.000 -N 45 --Lx 22.578321507144853 --Ly 21.726\n",
      "03 :  -T 1.000 -N 45 --Lx 22.799677600352155 --Ly 21.938999999999997\n",
      "04 :  -T 1.000 -N 45 --Lx 23.02103369355946 --Ly 22.151999999999997\n",
      "05 :  -T 1.000 -N 45 --Lx 23.24238978676676 --Ly 22.365\n",
      "06 :  -T 1.000 -N 45 --Lx 23.463745879974066 --Ly 22.578\n",
      "07 :  -T 1.000 -N 45 --Lx 23.685101973181368 --Ly 22.791\n",
      "08 :  -T 1.000 -N 45 --Lx 23.90645806638867 --Ly 23.004\n",
      "09 :  -T 1.000 -N 45 --Lx 24.12781415959597 --Ly 23.217\n",
      "10 :  -T 1.000 -N 45 --Lx 24.34917025280328 --Ly 23.43\n",
      "lines: 11\n",
      "-41.0 -41.0 -41.0 -41.0 -41.0 -41.0 -41.0 -41.0 -41.0 -41.0 -41.0 \n",
      "# lines 242\n",
      "# mu 242\n",
      "# command 242\n",
      "-T 1.000 -t 0.003130 -M 8 -I szalewicz -X graphenelut3d -E 300000 -S 2500 -l 8 --relax --bin_size=250 --Lz 10.0 --strain 0.00000 -N 45 --Lx 22.13560932073025 --Ly 21.299999999999997 --graphenelut3d_file_prefix=../../pimclocal/LUT/graphene_isotropic_0.00_10.0_101_101_1001_ --estimator=\"number particles\" --estimator=\"planar density average rho\" -u -83.0\n",
      "file ready: /home/sang/UVM/He4T1set/pimc_T1_Apr19_s0-10_-41.sh\n"
     ]
    }
   ],
   "source": [
    "T1maker(9,10,(0,1,2,3,4,5,6,7,8,9,10,),(-83,-40+0.1),sample,date='Apr19', fill = 1/2, step=2.0)"
   ]
  },
  {
   "cell_type": "code",
   "execution_count": 12,
   "metadata": {},
   "outputs": [
    {
     "name": "stdout",
     "output_type": "stream",
     "text": [
      "*******total n = 90*******\n",
      "11 :  -T 1.000 -N 45 --Lx 24.57052634601058 --Ly 23.643\n",
      "12 :  -T 1.000 -N 45 --Lx 24.791882439217883 --Ly 23.856\n",
      "13 :  -T 1.000 -N 45 --Lx 25.01323853242518 --Ly 24.069\n",
      "14 :  -T 1.000 -N 45 --Lx 25.234594625632486 --Ly 24.282\n",
      "15 :  -T 1.000 -N 45 --Lx 25.455950718839784 --Ly 24.494999999999997\n",
      "lines: 5\n",
      "-40.0 -41.0 -40.0 -40.0 -40.0 \n",
      "# lines 160\n",
      "# mu 160\n",
      "# command 160\n",
      "-T 1.000 -t 0.003130 -M 8 -I szalewicz -X graphenelut3d -E 300000 -S 2500 -l 8 --relax --bin_size=250 --Lz 10.0 --strain 0.00000 -N 45 --Lx 24.57052634601058 --Ly 23.643 --graphenelut3d_file_prefix=../../pimclocal/LUT/graphene_isotropic_0.11_10.0_101_101_1001_ --estimator=\"number particles\" --estimator=\"planar density average rho\" -u -106.0\n",
      "file ready: /home/sang/UVM/He4T1set/pimc_T1_Apr23_s11-15_-40.sh\n"
     ]
    }
   ],
   "source": [
    "T1maker(9,10,(11,12,13,14,15,),('vacuum',-40+0.1),sample,date='Apr23', fill = 1/2, step=2.0)"
   ]
  },
  {
   "cell_type": "code",
   "execution_count": 13,
   "metadata": {},
   "outputs": [
    {
     "name": "stdout",
     "output_type": "stream",
     "text": [
      "*******total n = 90*******\n",
      "16 :  -T 1.000 -N 45 --Lx 25.677306812047085 --Ly 24.708\n",
      "17 :  -T 1.000 -N 45 --Lx 25.898662905254387 --Ly 24.921\n",
      "18 :  -T 1.000 -N 45 --Lx 26.12001899846169 --Ly 25.134\n",
      "19 :  -T 1.000 -N 45 --Lx 26.341375091668997 --Ly 25.346999999999994\n",
      "20 :  -T 1.000 -N 45 --Lx 26.5627311848763 --Ly 25.560000000000002\n",
      "lines: 5\n",
      "-40.0 -40.0 -40.0 -41.0 -40.0 \n",
      "# lines 143\n",
      "# mu 143\n",
      "# command 143\n",
      "-T 1.000 -t 0.003130 -M 8 -I szalewicz -X graphenelut3d -E 300000 -S 2500 -l 8 --relax --bin_size=250 --Lz 10.0 --strain 0.00000 -N 45 --Lx 25.677306812047085 --Ly 24.708 --graphenelut3d_file_prefix=../../pimclocal/LUT/graphene_isotropic_0.16_10.0_101_101_1001_ --estimator=\"number particles\" --estimator=\"planar density average rho\" -u -96.0\n",
      "file ready: /home/sang/UVM/He4T1set/pimc_T1_Apr23_s16-20_-40.sh\n"
     ]
    }
   ],
   "source": [
    "T1maker(9,10,(16,17,18,19,20,),('vacuum',-40+0.1),sample,date='Apr23', fill = 1/2, step=2.0)"
   ]
  },
  {
   "cell_type": "code",
   "execution_count": 6,
   "metadata": {},
   "outputs": [
    {
     "name": "stdout",
     "output_type": "stream",
     "text": [
      "*******total n = 90*******\n",
      "21 :  -T 1.000 -N 45 --Lx 26.784087278083604 --Ly 25.773000000000003\n",
      "22 :  -T 1.000 -N 45 --Lx 27.005443371290905 --Ly 25.985999999999997\n",
      "23 :  -T 1.000 -N 45 --Lx 27.226799464498207 --Ly 26.198999999999998\n",
      "24 :  -T 1.000 -N 45 --Lx 27.448155557705512 --Ly 26.412\n",
      "25 :  -T 1.000 -N 45 --Lx 27.669511650912813 --Ly 26.624999999999996\n",
      "26 :  -T 1.000 -N 45 --Lx 27.890867744120115 --Ly 26.837999999999997\n",
      "27 :  -T 1.000 -N 45 --Lx 28.112223837327416 --Ly 27.051\n",
      "lines: 7\n",
      "-40.0 -41.0 -40.0 -41.0 -40.0 -40.0 -40.0 \n",
      "# lines 176\n",
      "# mu 176\n",
      "# command 176\n",
      "-T 1.000 -t 0.003130 -M 8 -I szalewicz -X graphenelut3d -E 300000 -S 2500 -l 8 --relax --bin_size=250 --Lz 10.0 --strain 0.00000 -N 45 --Lx 26.784087278083604 --Ly 25.773000000000003 --graphenelut3d_file_prefix=../../pimclocal/LUT/graphene_isotropic_0.21_10.0_101_101_1001_ --estimator=\"number particles\" --estimator=\"planar density average rho\" -u -92.0\n",
      "file ready: /home/sang/UVM/He4T1set/pimc_T1_Apr25_s21-27_-40.sh\n"
     ]
    }
   ],
   "source": [
    "T1maker(9,10,(21,22,23,24,25,26,27),('vacuum',-40+0.1),sample,date='Apr25', fill = 1/2, step=2.0)"
   ]
  },
  {
   "cell_type": "code",
   "execution_count": 7,
   "metadata": {},
   "outputs": [
    {
     "name": "stdout",
     "output_type": "stream",
     "text": [
      "*******total n = 90*******\n",
      "28 :  -T 1.000 -N 45 --Lx 28.333579930534718 --Ly 27.264\n",
      "29 :  -T 1.000 -N 45 --Lx 28.55493602374202 --Ly 27.477\n",
      "30 :  -T 1.000 -N 45 --Lx 28.77629211694932 --Ly 27.689999999999998\n",
      "lines: 3\n",
      "-40.0 -40.0 -40.0 \n",
      "# lines 129\n",
      "# mu 129\n",
      "# command 129\n",
      "-T 1.000 -t 0.003130 -M 8 -I szalewicz -X graphenelut3d -E 300000 -S 2500 -l 8 --relax --bin_size=250 --Lz 10.0 --strain 0.00000 -N 45 --Lx 28.333579930534718 --Ly 27.264 --graphenelut3d_file_prefix=../../pimclocal/LUT/graphene_isotropic_0.28_10.0_101_101_1001_ --estimator=\"number particles\" --estimator=\"planar density average rho\" -u -82.0\n",
      "file ready: /home/sang/UVM/He4T1set/pimc_T1_Apr25_s28-30_-40.sh\n"
     ]
    }
   ],
   "source": [
    "T1maker(9,10,(28,29,30,),('vacuum',-40+0.1),sample,date='Apr25', fill = 1/2, step=1.0)"
   ]
  }
 ],
 "metadata": {
  "kernelspec": {
   "display_name": "Python 3 (ipykernel)",
   "language": "python",
   "name": "python3"
  },
  "language_info": {
   "codemirror_mode": {
    "name": "ipython",
    "version": 3
   },
   "file_extension": ".py",
   "mimetype": "text/x-python",
   "name": "python",
   "nbconvert_exporter": "python",
   "pygments_lexer": "ipython3",
   "version": "3.9.6"
  }
 },
 "nbformat": 4,
 "nbformat_minor": 4
}
