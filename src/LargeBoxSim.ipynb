{
 "cells": [
  {
   "cell_type": "code",
   "execution_count": 1,
   "metadata": {},
   "outputs": [
    {
     "name": "stdout",
     "output_type": "stream",
     "text": [
      "plot style is loaded\n",
      "dict_keys(['0.15,-93.0'])\n"
     ]
    }
   ],
   "source": [
    "import matplotlib.pyplot as plt\n",
    "import numpy as np\n",
    "import pandas as pd\n",
    "import re,glob,os\n",
    "from collections import defaultdict\n",
    "import dgutils\n",
    "import json\n",
    "\n",
    "# Notebook display options\n",
    "%matplotlib inline\n",
    "%config InlineBackend.figure_format = 'retina'\n",
    "\n",
    "import dframe_tools as dtools\n",
    "import plot_tools as ptools\n",
    "import gen_resubmit as gensub\n",
    "\n",
    "# Comment out for description of below modules\n",
    "# dtools.help()\n",
    "# ptools.help()\n",
    "# gensub.help()\n",
    "\n",
    "### If you import data from csv, put 1 here\n",
    "is_csv = 1\n",
    "\n",
    "\n",
    "#=========================================================================\n",
    "if is_csv == 1:\n",
    "\n",
    "    dbase = pd.read_csv('../data/Largebox_data.csv')\n",
    "    dbase['filedic'] = dbase['filedic'].apply(lambda x: json.loads(x.replace(\"'\", '\"')))\n",
    "\n",
    "else:\n",
    "### from raw data\n",
    "    path = '/home/sang/UVM/H4large/OUTPUT'\n",
    "    dbase = dtools.df_pimc(path, skip = 0, noenergy = 1, replace = 1)\n",
    "\n",
    "dfdict = ptools.datadic(dbase)"
   ]
  },
  {
   "cell_type": "code",
   "execution_count": 2,
   "metadata": {},
   "outputs": [],
   "source": [
    "# plot style\n",
    "# plot_style = {'notebook':'../include/notebook.mplstyle','sans':'../include/sans_NC.mplstyle'}\n",
    "# plt.style.reload_library()\n",
    "# plt.style.use(plot_style['sans'])\n",
    "# figsize = plt.rcParams['figure.figsize']\n",
    "\n",
    "# colors = plt.rcParams['axes.prop_cycle'].by_key()['color']\n",
    "\n",
    "# setup a possible custom font path\n",
    "from matplotlib import font_manager\n",
    "def what_font_path (filename):\n",
    "    for p in font_manager.findSystemFonts(fontpaths=None, fontext=\"ttf\"):\n",
    "        if p.find(filename) != -1:\n",
    "            return p\n",
    "\n",
    "font_path,bold_font_path = '.','.'\n",
    "if 'LOCAL_FONT_PATH' in os.environ:\n",
    "    font_path = os.environ['LOCAL_FONT_PATH'] + os.path.sep + 'HelveticaNeue/HelveticaNeue-Light-08.ttf'\n",
    "    bold_font_path = os.environ['LOCAL_FONT_PATH'] + os.path.sep + 'HelveticaNeue/HelveticaNeue-Bold-02.ttf'\n",
    "    \n",
    "else:\n",
    "    # local path (custom)\n",
    "    font_path = what_font_path('HelveticaNeue-Light-08')\n",
    "    bold_font_path = what_font_path('HelveticaNeue-Bold-02')\n",
    "    italic_font_path = what_font_path('HelveticaNeue-Italic-03')"
   ]
  },
  {
   "cell_type": "code",
   "execution_count": 3,
   "metadata": {},
   "outputs": [],
   "source": [
    "### Export data\n",
    "# dbase.to_csv('../data/Largebox_data.csv',index=False)"
   ]
  },
  {
   "cell_type": "code",
   "execution_count": 4,
   "metadata": {},
   "outputs": [],
   "source": [
    "# Initialize outputs\n",
    "case_out = {}\n",
    "case_nmean = {}\n",
    "case_nerr = {}\n",
    "case_alist = {}\n",
    "case_aerrlist = {}"
   ]
  },
  {
   "cell_type": "code",
   "execution_count": 5,
   "metadata": {},
   "outputs": [],
   "source": [
    "subset = dbase.sort_values('T',ascending=True)\n",
    "Tset = subset['T']\n",
    "nset = subset['n']\n",
    "nerrset = subset['nerr']\n",
    "kapset = subset['kap']\n",
    "rhosset = subset['rhos']\n",
    "rhoserrset = subset['rhoserr']"
   ]
  },
  {
   "cell_type": "code",
   "execution_count": 6,
   "metadata": {},
   "outputs": [
    {
     "data": {
      "image/png": "[encoded data removed]",
      "text/plain": [
       "<Figure size 299.341x185.001 with 1 Axes>"
      ]
     },
     "metadata": {
      "image/png": {
       "height": 167,
       "width": 281
      },
      "needs_background": "light"
     },
     "output_type": "display_data"
    }
   ],
   "source": [
    "plt.style.reload_library()\n",
    "fig1 = plt.figure('fig1' ,figsize = [3.4646*1.2, 2.14122*1.2])\n",
    "dgutils.fonts.set_custom_font(font_path)\n",
    "\n",
    "plt.xlim(0.35, 1.2)\n",
    "plt.ylim(0, 10)\n",
    "\n",
    "area = np.sqrt(3)/4*6*1.42\n",
    "mass = 10*6.7\n",
    "pden = nset/144/area*mass\n",
    "sden = nset/144*rhosset/area*mass\n",
    "\n",
    "plt.errorbar(Tset, pden, yerr=nerrset/144/area*mass, label = 'Density',\n",
    "             ms = 12, mfc = 'lightgrey',\n",
    "             fmt='.', ecolor=plt.get_cmap('tab10')(0), elinewidth=2, capsize=0, alpha = 1.0\n",
    "            )\n",
    "plt.bar(Tset, pden, width=0.015, color = 'lightgrey', )\n",
    "plt.errorbar(Tset, sden, yerr=nset/144*rhoserrset/area*mass, label = 'SF Density',\n",
    "             ms = 3, c = plt.get_cmap('tab10')(1),\n",
    "             fmt='.--', ecolor=plt.get_cmap('tab10')(1), elinewidth=2, capsize=0, alpha = 0.7\n",
    "            )\n",
    "# plt.bar(Tset, rhosset,)\n",
    "plt.legend()\n",
    "plt.xlabel('Temperature (K)', fontsize=14)\n",
    "plt.ylabel(r'SF density$\\times 10^{9} \\,$ ($\\text{g cm}^{-2}$)', fontsize=12)\n",
    "plt.xticks([0.4, 0.6, 0.8, 1.0], fontsize=14)\n",
    "plt.yticks([4, 8, ],fontsize=14)\n",
    "plt.tight_layout()\n",
    "plt.show()\n",
    "\n",
    "# save?\n",
    "fig1.savefig('../figures/largeBox.png')"
   ]
  },
  {
   "cell_type": "code",
   "execution_count": 7,
   "metadata": {},
   "outputs": [],
   "source": [
    "# target = dbase"
   ]
  },
  {
   "cell_type": "code",
   "execution_count": 8,
   "metadata": {},
   "outputs": [],
   "source": [
    "# print(len(target))\n",
    "# date = 'May03'\n",
    "# gensub.continue_from(target, 'pimc_large_cont', date, suffix = 0)"
   ]
  }
 ],
 "metadata": {
  "kernelspec": {
   "display_name": "Python 3",
   "language": "python",
   "name": "python3"
  },
  "language_info": {
   "codemirror_mode": {
    "name": "ipython",
    "version": 3
   },
   "file_extension": ".py",
   "mimetype": "text/x-python",
   "name": "python",
   "nbconvert_exporter": "python",
   "pygments_lexer": "ipython3",
   "version": "3.8.5"
  }
 },
 "nbformat": 4,
 "nbformat_minor": 4
}
