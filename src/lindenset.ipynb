{
 "cells": [
  {
   "cell_type": "code",
   "execution_count": 5,
   "metadata": {},
   "outputs": [
    {
     "name": "stdout",
     "output_type": "stream",
     "text": [
      "dict_keys(['0.15,-93.0'])\n"
     ]
    }
   ],
   "source": [
    "import matplotlib.pyplot as plt\n",
    "import numpy as np\n",
    "import pandas as pd\n",
    "import re,glob,os\n",
    "# from collections import defaultdict\n",
    "import dgutils\n",
    "import json\n",
    "\n",
    "# Notebook display options\n",
    "%matplotlib inline\n",
    "%config InlineBackend.figure_format = 'retina'\n",
    "\n",
    "import dframe_tools as dtools\n",
    "import plot_tools as ptools\n",
    "import gen_resubmit as gensub\n",
    "\n",
    "# Comment out for description of below modules\n",
    "# dtools.help()\n",
    "# ptools.help()\n",
    "# gensub.help()\n",
    "\n",
    "'''\n",
    "Assign path of OUTPUT files and generate database\n",
    "Options:\n",
    "skip = int or float [int: number of line to skip, float: proportion to skip]\n",
    "noenergy = 0 if you have energy estimator, 1 if you don't. 0: pick 9, 10th column 1: pick 0, 1st column\n",
    "replace = 1 if you want to replace nan to zero. Be cautious to use it\n",
    "'''\n",
    "\n",
    "### If you import data from csv, put 1 here\n",
    "is_csv = 1\n",
    "\n",
    "#=========================================================================\n",
    "if is_csv == 1:\n",
    "\n",
    "#     dbase = pd.read_csv('../data/SFphase_data.csv')\n",
    "    dbase = pd.read_csv('../data/lindenset.csv')\n",
    "    dbase['filedic'] = dbase['filedic'].apply(lambda x: json.loads(x.replace(\"'\", '\"')))\n",
    "    dbase['boxdims'] = dbase['boxdims'].apply(lambda x: [float(t) for t in x.strip('[').strip(']').split(',')])\n",
    "\n",
    "else:\n",
    "### from raw data\n",
    "    path = '../data/QMC/lindenset/'\n",
    "    dbase = dtools.df_pimc(path, skip = 0, noenergy = 1, replace = 1)\n",
    "\n",
    "dfdict = ptools.datadic(dbase)"
   ]
  },
  {
   "cell_type": "code",
   "execution_count": 6,
   "metadata": {},
   "outputs": [],
   "source": [
    "### plot style\n",
    "plot_style = {'notebook':'../include/notebook.mplstyle','sans':'../include/sans_NC.mplstyle'}\n",
    "plt.style.reload_library()\n",
    "plt.style.use(plot_style['sans'])\n",
    "figsize = plt.rcParams['figure.figsize']\n",
    "\n",
    "colors = plt.rcParams['axes.prop_cycle'].by_key()['color']\n",
    "\n",
    "# setup a possible custom font path\n",
    "from matplotlib import font_manager\n",
    "def what_font_path (filename):\n",
    "    for p in font_manager.findSystemFonts(fontpaths=None, fontext=\"ttf\"):\n",
    "        if p.find(filename) != -1:\n",
    "            return p\n",
    "\n",
    "font_path,bold_font_path = '.','.'\n",
    "if 'LOCAL_FONT_PATH' in os.environ:\n",
    "    font_path = os.environ['LOCAL_FONT_PATH'] + os.path.sep + 'HelveticaNeue/HelveticaNeue-Light-08.ttf'\n",
    "    bold_font_path = os.environ['LOCAL_FONT_PATH'] + os.path.sep + 'HelveticaNeue/HelveticaNeue-Bold-02.ttf'\n",
    "else:\n",
    "    # local path (custom)\n",
    "    font_path = what_font_path('HelveticaNeue-Light-08')\n",
    "    bold_font_path = what_font_path('HelveticaNeue-Bold-02')"
   ]
  },
  {
   "cell_type": "code",
   "execution_count": 7,
   "metadata": {},
   "outputs": [],
   "source": [
    "### Export data\n",
    "# dbase.to_csv('../data/lindenset.csv',index=False)"
   ]
  },
  {
   "cell_type": "code",
   "execution_count": 8,
   "metadata": {},
   "outputs": [],
   "source": [
    "def lin_ave(subset):\n",
    "    if len(subset['strain'].unique()) != 1:\n",
    "        print(\"the subset has more than one strain data\")\n",
    "        return None\n",
    "    else:\n",
    "        subset = subset.sort_values('totN', ascending=True)\n",
    "        subset = subset.reset_index()\n",
    "\n",
    "        totNlst = np.array(subset['totN'])\n",
    "\n",
    "        lin_lst = []\n",
    "        dz_lst = []\n",
    "\n",
    "        for idx, row in subset.iterrows():\n",
    "            file = row['filedic']['lineardensity'] #file location\n",
    "            with open(file,'r') as lines:\n",
    "                header = lines.readline()\n",
    "                header = lines.readline()\n",
    "            ngridsep = int(header.split(' ')[-1])\n",
    "            dz = float(header.split(' ')[-4])\n",
    "            linData = np.genfromtxt(file, skip_header=2,deletechars=\"\") #read data\n",
    "            linave = np.mean(linData, axis=0)\n",
    "            lin_lst.append(linave)\n",
    "            dz_lst.append(dz)\n",
    "            \n",
    "        return totNlst, lin_lst, dz_lst"
   ]
  },
  {
   "cell_type": "code",
   "execution_count": 9,
   "metadata": {},
   "outputs": [],
   "source": [
    "target = dbase[(dbase['strain']==0.15)&(dbase['mu']==-93)&(dbase['totN']==64)&(dbase['T']==0.6)]"
   ]
  },
  {
   "cell_type": "code",
   "execution_count": 10,
   "metadata": {},
   "outputs": [],
   "source": [
    "totNlst, lin_lst, dz_lst = lin_ave(target)\n",
    "lx, ly, lz = target['boxdims'].iloc[0]"
   ]
  },
  {
   "cell_type": "code",
   "execution_count": 11,
   "metadata": {},
   "outputs": [],
   "source": [
    "from scipy import interpolate\n",
    "x = np.arange(0,10-dz_lst[0],dz_lst[0])\n",
    "y = np.array(lin_lst[0])*dz_lst[0]*lx*ly/target['n'].iloc[0]\n",
    "f = interpolate.interp1d(x, y, kind='cubic')"
   ]
  },
  {
   "cell_type": "code",
   "execution_count": 12,
   "metadata": {},
   "outputs": [
    {
     "data": {
      "text/plain": [
       "1.980198"
      ]
     },
     "execution_count": 12,
     "metadata": {},
     "output_type": "execute_result"
    }
   ],
   "source": [
    "len(np.arange(0,2,dz_lst[0]))\n",
    "x[20]"
   ]
  },
  {
   "cell_type": "code",
   "execution_count": 13,
   "metadata": {},
   "outputs": [
    {
     "data": {
      "text/plain": [
       "[<matplotlib.lines.Line2D at 0x7fab7d6af2e0>,\n",
       " <matplotlib.lines.Line2D at 0x7fab7d6af3d0>]"
      ]
     },
     "execution_count": 13,
     "metadata": {},
     "output_type": "execute_result"
    },
    {
     "name": "stderr",
     "output_type": "stream",
     "text": [
      "findfont: Font family ['sans-serif'] not found. Falling back to DejaVu Sans.\n",
      "findfont: Generic family 'sans-serif' not found because none of the following families were found: Helvetica Neue\n"
     ]
    },
    {
     "data": {
      "image/png": "[encoded data removed]",
      "text/plain": [
       "<Figure size 249.451x154.168 with 1 Axes>"
      ]
     },
     "metadata": {
      "image/png": {
       "height": 147,
       "width": 248
      },
      "needs_background": "light"
     },
     "output_type": "display_data"
    }
   ],
   "source": [
    "xnew = np.linspace(2, 4, 10000)\n",
    "ynew = f(xnew)   # use interpolation function returned by `interp1d`\n",
    "plt.plot(x, y, 'o', xnew, ynew, '-')"
   ]
  },
  {
   "cell_type": "code",
   "execution_count": 14,
   "metadata": {},
   "outputs": [
    {
     "name": "stdout",
     "output_type": "stream",
     "text": [
      "2.5546554655465545 0.0644812899846291\n",
      "3.267126712671267 0.06447171666436965\n"
     ]
    }
   ],
   "source": [
    "ymax = max(ynew)\n",
    "halfmax = []\n",
    "for i, yv in enumerate(ynew):\n",
    "    if yv >= ymax/2:\n",
    "        print(xnew[i], yv)\n",
    "        halfmax.append(round(xnew[i],6))\n",
    "        break\n",
    "for i, yv in enumerate(ynew[::-1]):\n",
    "    if yv >= ymax/2:\n",
    "        print(xnew[-i], yv)\n",
    "        halfmax.append(round(xnew[-i],6))\n",
    "        break"
   ]
  },
  {
   "cell_type": "code",
   "execution_count": 15,
   "metadata": {},
   "outputs": [
    {
     "data": {
      "text/plain": [
       "[2.554655, 3.267127]"
      ]
     },
     "execution_count": 15,
     "metadata": {},
     "output_type": "execute_result"
    }
   ],
   "source": [
    "halfmax"
   ]
  },
  {
   "cell_type": "code",
   "execution_count": 16,
   "metadata": {},
   "outputs": [
    {
     "name": "stderr",
     "output_type": "stream",
     "text": [
      "findfont: Font family ['cursive'] not found. Falling back to DejaVu Sans.\n",
      "findfont: Generic family 'cursive' not found because none of the following families were found: Apple Chancery, Textile, Zapf Chancery, Sand, Script MT, Felipa, Comic Neue, Comic Sans MS, cursive\n"
     ]
    },
    {
     "data": {
      "image/png": "[encoded data removed]",
      "text/plain": [
       "<Figure size 249.451x154.168 with 1 Axes>"
      ]
     },
     "metadata": {
      "image/png": {
       "height": 159,
       "width": 258
      },
      "needs_background": "light"
     },
     "output_type": "display_data"
    }
   ],
   "source": [
    "# totNlst, lin_lst, dz_lst = lin_ave(target)\n",
    "# lx, ly, lz = target['boxdims'].iloc[0]\n",
    "\n",
    "plt.style.reload_library()\n",
    "fig = plt.figure('fig')\n",
    "dgutils.fonts.set_custom_font(font_path)\n",
    "plt.plot(xnew, ynew, '-', label=f'linear density at T=0.6 K')\n",
    "plt.plot(np.arange(0,10-dz_lst[0],dz_lst[0]) ,np.array(lin_lst[0])*dz_lst[0]*lx*ly/target['n'].iloc[0],\n",
    "         'o',)\n",
    "plt.plot(halfmax, [ymax/2, ymax/2], \"x-\", ms = 6)\n",
    "plt.text(3.6,0.06,str(round(halfmax[1]-halfmax[0],2))+r'${\\rm \\AA}$')\n",
    "# for i in range(len(lin_lst)):\n",
    "#     print(totNlst[i])\n",
    "#     plt.plot(np.arange(0,10-dz_lst[i],dz_lst[i]) ,lin_lst[i], label=f'size={totNlst[i]}')\n",
    "plt.legend()\n",
    "plt.xlabel('Distance'+r' (${\\rm \\AA}$)')\n",
    "plt.ylabel('Linear Density' +r' (${\\rm \\AA}^{-1}$)')\n",
    "fig.savefig('../figures/linden15-93.pdf')\n",
    "fig.savefig('../figures/linden15-93.svg')"
   ]
  },
  {
   "cell_type": "code",
   "execution_count": 17,
   "metadata": {},
   "outputs": [
    {
     "data": {
      "text/plain": [
       "0.9980996619806077"
      ]
     },
     "execution_count": 17,
     "metadata": {},
     "output_type": "execute_result"
    }
   ],
   "source": [
    "sum(lin_lst[0]*dz_lst[0]*lx*ly/target['n'].iloc[0])"
   ]
  }
 ],
 "metadata": {
  "kernelspec": {
   "display_name": "Python 3 (ipykernel)",
   "language": "python",
   "name": "python3"
  },
  "language_info": {
   "codemirror_mode": {
    "name": "ipython",
    "version": 3
   },
   "file_extension": ".py",
   "mimetype": "text/x-python",
   "name": "python",
   "nbconvert_exporter": "python",
   "pygments_lexer": "ipython3",
   "version": "3.9.12"
  }
 },
 "nbformat": 4,
 "nbformat_minor": 4
}
